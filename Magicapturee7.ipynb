{
  "nbformat": 4,
  "nbformat_minor": 0,
  "metadata": {
    "colab": {
      "provenance": [],
      "gpuType": "T4",
      "mount_file_id": "1WFrs19p_eYaeaaTF1pEIfmSk_ro8Zuu_",
      "authorship_tag": "ABX9TyNbKEHWjvGOSg3JLO31OQYg",
      "include_colab_link": true
    },
    "kernelspec": {
      "name": "python3",
      "display_name": "Python 3"
    },
    "language_info": {
      "name": "python"
    },
    "accelerator": "GPU"
  },
  "cells": [
    {
      "cell_type": "markdown",
      "metadata": {
        "id": "view-in-github",
        "colab_type": "text"
      },
      "source": [
        "<a href=\"https://colab.research.google.com/github/mayanku1111/SFprojects/blob/main/Magicapturee7.ipynb\" target=\"_parent\"><img src=\"https://colab.research.google.com/assets/colab-badge.svg\" alt=\"Open In Colab\"/></a>"
      ]
    },
    {
      "cell_type": "code",
      "execution_count": 1,
      "metadata": {
        "id": "0cfWN4vdfrQY",
        "colab": {
          "base_uri": "https://localhost:8080/"
        },
        "outputId": "065d98e2-3083-4d67-f3b3-cc8233a2130f"
      },
      "outputs": [
        {
          "output_type": "stream",
          "name": "stdout",
          "text": [
            "Drive already mounted at /content/drive; to attempt to forcibly remount, call drive.mount(\"/content/drive\", force_remount=True).\n"
          ]
        }
      ],
      "source": [
        "from google.colab import drive\n",
        "drive.mount('/content/drive')"
      ]
    },
    {
      "cell_type": "code",
      "source": [
        "!pip install torch==1.12.0 torchvision==0.13.0 torchaudio==0.12.0"
      ],
      "metadata": {
        "id": "v9KQmCl2fw6e",
        "colab": {
          "base_uri": "https://localhost:8080/"
        },
        "outputId": "ab87a2ba-c905-429a-de36-040d46be7561"
      },
      "execution_count": 14,
      "outputs": [
        {
          "output_type": "stream",
          "name": "stdout",
          "text": [
            "Requirement already satisfied: torch==1.12.0 in /usr/local/lib/python3.10/dist-packages (1.12.0)\n",
            "Requirement already satisfied: torchvision==0.13.0 in /usr/local/lib/python3.10/dist-packages (0.13.0)\n",
            "Requirement already satisfied: torchaudio==0.12.0 in /usr/local/lib/python3.10/dist-packages (0.12.0)\n",
            "Requirement already satisfied: typing-extensions in /usr/local/lib/python3.10/dist-packages (from torch==1.12.0) (4.12.2)\n",
            "Requirement already satisfied: numpy in /usr/local/lib/python3.10/dist-packages (from torchvision==0.13.0) (1.23.5)\n",
            "Requirement already satisfied: requests in /usr/local/lib/python3.10/dist-packages (from torchvision==0.13.0) (2.31.0)\n",
            "Requirement already satisfied: pillow!=8.3.*,>=5.3.0 in /usr/local/lib/python3.10/dist-packages (from torchvision==0.13.0) (9.4.0)\n",
            "Requirement already satisfied: charset-normalizer<4,>=2 in /usr/local/lib/python3.10/dist-packages (from requests->torchvision==0.13.0) (3.3.2)\n",
            "Requirement already satisfied: idna<4,>=2.5 in /usr/local/lib/python3.10/dist-packages (from requests->torchvision==0.13.0) (3.7)\n",
            "Requirement already satisfied: urllib3<3,>=1.21.1 in /usr/local/lib/python3.10/dist-packages (from requests->torchvision==0.13.0) (2.0.7)\n",
            "Requirement already satisfied: certifi>=2017.4.17 in /usr/local/lib/python3.10/dist-packages (from requests->torchvision==0.13.0) (2024.7.4)\n"
          ]
        }
      ]
    },
    {
      "cell_type": "code",
      "source": [
        "%cd /content/drive/MyDrive/MagiCapture/insightface_/detection/retinaface"
      ],
      "metadata": {
        "id": "I4G76yO4f2Zb",
        "colab": {
          "base_uri": "https://localhost:8080/"
        },
        "outputId": "a5d38dd7-e561-4550-abc2-bbf9717a9c60"
      },
      "execution_count": 13,
      "outputs": [
        {
          "output_type": "stream",
          "name": "stdout",
          "text": [
            "/content/drive/MyDrive/MagiCapture/insightface_/detection/retinaface\n"
          ]
        }
      ]
    },
    {
      "cell_type": "code",
      "source": [
        "!pip install -r /content/drive/MyDrive/MagiCapture/requirements.txt"
      ],
      "metadata": {
        "id": "OVbkauEVf2co",
        "colab": {
          "base_uri": "https://localhost:8080/"
        },
        "outputId": "8dc57d65-3946-4985-c256-6c761df29c67"
      },
      "execution_count": 12,
      "outputs": [
        {
          "output_type": "stream",
          "name": "stdout",
          "text": [
            "Requirement already satisfied: accelerate in /usr/local/lib/python3.10/dist-packages (from -r /content/drive/MyDrive/MagiCapture/requirements.txt (line 1)) (0.32.1)\n",
            "Requirement already satisfied: diffusers==0.14.0 in /usr/local/lib/python3.10/dist-packages (from -r /content/drive/MyDrive/MagiCapture/requirements.txt (line 2)) (0.14.0)\n",
            "Requirement already satisfied: transformers in /usr/local/lib/python3.10/dist-packages (from -r /content/drive/MyDrive/MagiCapture/requirements.txt (line 3)) (4.42.4)\n",
            "Requirement already satisfied: scipy in /usr/local/lib/python3.10/dist-packages (from -r /content/drive/MyDrive/MagiCapture/requirements.txt (line 4)) (1.13.1)\n",
            "Requirement already satisfied: ftfy in /usr/local/lib/python3.10/dist-packages (from -r /content/drive/MyDrive/MagiCapture/requirements.txt (line 5)) (6.2.0)\n",
            "Requirement already satisfied: fire in /usr/local/lib/python3.10/dist-packages (from -r /content/drive/MyDrive/MagiCapture/requirements.txt (line 6)) (0.6.0)\n",
            "Requirement already satisfied: wandb in /usr/local/lib/python3.10/dist-packages (from -r /content/drive/MyDrive/MagiCapture/requirements.txt (line 7)) (0.17.5)\n",
            "Requirement already satisfied: safetensors in /usr/local/lib/python3.10/dist-packages (from -r /content/drive/MyDrive/MagiCapture/requirements.txt (line 8)) (0.4.3)\n",
            "Requirement already satisfied: opencv-python in /usr/local/lib/python3.10/dist-packages (from -r /content/drive/MyDrive/MagiCapture/requirements.txt (line 9)) (4.10.0.84)\n",
            "Requirement already satisfied: mediapipe in /usr/local/lib/python3.10/dist-packages (from -r /content/drive/MyDrive/MagiCapture/requirements.txt (line 10)) (0.10.14)\n",
            "Requirement already satisfied: tensorboard in /usr/local/lib/python3.10/dist-packages (from -r /content/drive/MyDrive/MagiCapture/requirements.txt (line 11)) (2.15.2)\n",
            "Requirement already satisfied: easydict in /usr/local/lib/python3.10/dist-packages (from -r /content/drive/MyDrive/MagiCapture/requirements.txt (line 12)) (1.13)\n",
            "Requirement already satisfied: onnx in /usr/local/lib/python3.10/dist-packages (from -r /content/drive/MyDrive/MagiCapture/requirements.txt (line 13)) (1.16.1)\n",
            "Requirement already satisfied: scikit-learn in /usr/local/lib/python3.10/dist-packages (from -r /content/drive/MyDrive/MagiCapture/requirements.txt (line 14)) (1.3.2)\n",
            "Requirement already satisfied: addict in /usr/local/lib/python3.10/dist-packages (from -r /content/drive/MyDrive/MagiCapture/requirements.txt (line 15)) (2.4.0)\n",
            "Requirement already satisfied: future in /usr/local/lib/python3.10/dist-packages (from -r /content/drive/MyDrive/MagiCapture/requirements.txt (line 16)) (1.0.0)\n",
            "Requirement already satisfied: lmdb in /usr/local/lib/python3.10/dist-packages (from -r /content/drive/MyDrive/MagiCapture/requirements.txt (line 17)) (1.5.1)\n",
            "Requirement already satisfied: Pillow in /usr/local/lib/python3.10/dist-packages (from -r /content/drive/MyDrive/MagiCapture/requirements.txt (line 18)) (9.4.0)\n",
            "Requirement already satisfied: pyyaml in /usr/local/lib/python3.10/dist-packages (from -r /content/drive/MyDrive/MagiCapture/requirements.txt (line 19)) (6.0.1)\n",
            "Requirement already satisfied: requests in /usr/local/lib/python3.10/dist-packages (from -r /content/drive/MyDrive/MagiCapture/requirements.txt (line 20)) (2.31.0)\n",
            "Requirement already satisfied: scikit-image in /usr/local/lib/python3.10/dist-packages (from -r /content/drive/MyDrive/MagiCapture/requirements.txt (line 21)) (0.23.2)\n",
            "Requirement already satisfied: tb-nightly in /usr/local/lib/python3.10/dist-packages (from -r /content/drive/MyDrive/MagiCapture/requirements.txt (line 23)) (2.18.0a20240727)\n",
            "Requirement already satisfied: tqdm in /usr/local/lib/python3.10/dist-packages (from -r /content/drive/MyDrive/MagiCapture/requirements.txt (line 24)) (4.66.4)\n",
            "Requirement already satisfied: yapf in /usr/local/lib/python3.10/dist-packages (from -r /content/drive/MyDrive/MagiCapture/requirements.txt (line 25)) (0.40.2)\n",
            "Requirement already satisfied: lpips in /usr/local/lib/python3.10/dist-packages (from -r /content/drive/MyDrive/MagiCapture/requirements.txt (line 26)) (0.1.4)\n",
            "Requirement already satisfied: gdown in /usr/local/lib/python3.10/dist-packages (from -r /content/drive/MyDrive/MagiCapture/requirements.txt (line 27)) (5.1.0)\n",
            "Requirement already satisfied: Cython>=0.29.28 in /usr/local/lib/python3.10/dist-packages (from -r /content/drive/MyDrive/MagiCapture/requirements.txt (line 28)) (3.0.10)\n",
            "Requirement already satisfied: cmake>=3.22.3 in /usr/local/lib/python3.10/dist-packages (from -r /content/drive/MyDrive/MagiCapture/requirements.txt (line 29)) (3.30.1)\n",
            "Requirement already satisfied: clip in /usr/local/lib/python3.10/dist-packages (from -r /content/drive/MyDrive/MagiCapture/requirements.txt (line 30)) (0.2.0)\n",
            "Requirement already satisfied: kornia in /usr/local/lib/python3.10/dist-packages (from -r /content/drive/MyDrive/MagiCapture/requirements.txt (line 31)) (0.7.3)\n",
            "Requirement already satisfied: insightface in /usr/local/lib/python3.10/dist-packages (from -r /content/drive/MyDrive/MagiCapture/requirements.txt (line 32)) (0.7.3)\n",
            "Requirement already satisfied: onnxruntime in /usr/local/lib/python3.10/dist-packages (from -r /content/drive/MyDrive/MagiCapture/requirements.txt (line 33)) (1.18.1)\n",
            "Requirement already satisfied: segment_anything in /usr/local/lib/python3.10/dist-packages (from -r /content/drive/MyDrive/MagiCapture/requirements.txt (line 34)) (1.0)\n",
            "Collecting mxnet==1.6.0 (from -r /content/drive/MyDrive/MagiCapture/requirements.txt (line 35))\n",
            "  Using cached mxnet-1.6.0-py2.py3-none-any.whl.metadata (3.4 kB)\n",
            "Collecting mxnet-cu112==1.9.1 (from -r /content/drive/MyDrive/MagiCapture/requirements.txt (line 36))\n",
            "  Using cached mxnet_cu112-1.9.1-py3-none-manylinux2014_x86_64.whl.metadata (3.5 kB)\n",
            "Requirement already satisfied: numpy==1.23.5 in /usr/local/lib/python3.10/dist-packages (from -r /content/drive/MyDrive/MagiCapture/requirements.txt (line 37)) (1.23.5)\n",
            "Requirement already satisfied: importlib-metadata in /usr/local/lib/python3.10/dist-packages (from diffusers==0.14.0->-r /content/drive/MyDrive/MagiCapture/requirements.txt (line 2)) (8.1.0)\n",
            "Requirement already satisfied: filelock in /usr/local/lib/python3.10/dist-packages (from diffusers==0.14.0->-r /content/drive/MyDrive/MagiCapture/requirements.txt (line 2)) (3.15.4)\n",
            "Requirement already satisfied: huggingface-hub>=0.10.0 in /usr/local/lib/python3.10/dist-packages (from diffusers==0.14.0->-r /content/drive/MyDrive/MagiCapture/requirements.txt (line 2)) (0.23.5)\n",
            "Requirement already satisfied: regex!=2019.12.17 in /usr/local/lib/python3.10/dist-packages (from diffusers==0.14.0->-r /content/drive/MyDrive/MagiCapture/requirements.txt (line 2)) (2024.5.15)\n",
            "Requirement already satisfied: graphviz<0.9.0,>=0.8.1 in /usr/local/lib/python3.10/dist-packages (from mxnet==1.6.0->-r /content/drive/MyDrive/MagiCapture/requirements.txt (line 35)) (0.8.4)\n",
            "Requirement already satisfied: packaging>=20.0 in /usr/local/lib/python3.10/dist-packages (from accelerate->-r /content/drive/MyDrive/MagiCapture/requirements.txt (line 1)) (24.1)\n",
            "Requirement already satisfied: psutil in /usr/local/lib/python3.10/dist-packages (from accelerate->-r /content/drive/MyDrive/MagiCapture/requirements.txt (line 1)) (5.9.5)\n",
            "Requirement already satisfied: torch>=1.10.0 in /usr/local/lib/python3.10/dist-packages (from accelerate->-r /content/drive/MyDrive/MagiCapture/requirements.txt (line 1)) (1.12.0)\n",
            "Requirement already satisfied: tokenizers<0.20,>=0.19 in /usr/local/lib/python3.10/dist-packages (from transformers->-r /content/drive/MyDrive/MagiCapture/requirements.txt (line 3)) (0.19.1)\n",
            "Requirement already satisfied: wcwidth<0.3.0,>=0.2.12 in /usr/local/lib/python3.10/dist-packages (from ftfy->-r /content/drive/MyDrive/MagiCapture/requirements.txt (line 5)) (0.2.13)\n",
            "Requirement already satisfied: six in /usr/local/lib/python3.10/dist-packages (from fire->-r /content/drive/MyDrive/MagiCapture/requirements.txt (line 6)) (1.16.0)\n",
            "Requirement already satisfied: termcolor in /usr/local/lib/python3.10/dist-packages (from fire->-r /content/drive/MyDrive/MagiCapture/requirements.txt (line 6)) (2.4.0)\n",
            "Requirement already satisfied: click!=8.0.0,>=7.1 in /usr/local/lib/python3.10/dist-packages (from wandb->-r /content/drive/MyDrive/MagiCapture/requirements.txt (line 7)) (8.1.7)\n",
            "Requirement already satisfied: docker-pycreds>=0.4.0 in /usr/local/lib/python3.10/dist-packages (from wandb->-r /content/drive/MyDrive/MagiCapture/requirements.txt (line 7)) (0.4.0)\n",
            "Requirement already satisfied: gitpython!=3.1.29,>=1.0.0 in /usr/local/lib/python3.10/dist-packages (from wandb->-r /content/drive/MyDrive/MagiCapture/requirements.txt (line 7)) (3.1.43)\n",
            "Requirement already satisfied: platformdirs in /usr/local/lib/python3.10/dist-packages (from wandb->-r /content/drive/MyDrive/MagiCapture/requirements.txt (line 7)) (4.2.2)\n",
            "Requirement already satisfied: protobuf!=4.21.0,<6,>=3.19.0 in /usr/local/lib/python3.10/dist-packages (from wandb->-r /content/drive/MyDrive/MagiCapture/requirements.txt (line 7)) (4.25.4)\n",
            "Requirement already satisfied: sentry-sdk>=1.0.0 in /usr/local/lib/python3.10/dist-packages (from wandb->-r /content/drive/MyDrive/MagiCapture/requirements.txt (line 7)) (2.11.0)\n",
            "Requirement already satisfied: setproctitle in /usr/local/lib/python3.10/dist-packages (from wandb->-r /content/drive/MyDrive/MagiCapture/requirements.txt (line 7)) (1.3.3)\n",
            "Requirement already satisfied: setuptools in /usr/local/lib/python3.10/dist-packages (from wandb->-r /content/drive/MyDrive/MagiCapture/requirements.txt (line 7)) (71.0.4)\n",
            "Requirement already satisfied: absl-py in /usr/local/lib/python3.10/dist-packages (from mediapipe->-r /content/drive/MyDrive/MagiCapture/requirements.txt (line 10)) (1.4.0)\n",
            "Requirement already satisfied: attrs>=19.1.0 in /usr/local/lib/python3.10/dist-packages (from mediapipe->-r /content/drive/MyDrive/MagiCapture/requirements.txt (line 10)) (23.2.0)\n",
            "Requirement already satisfied: flatbuffers>=2.0 in /usr/local/lib/python3.10/dist-packages (from mediapipe->-r /content/drive/MyDrive/MagiCapture/requirements.txt (line 10)) (24.3.25)\n",
            "Requirement already satisfied: jax in /usr/local/lib/python3.10/dist-packages (from mediapipe->-r /content/drive/MyDrive/MagiCapture/requirements.txt (line 10)) (0.4.23)\n",
            "Requirement already satisfied: jaxlib in /usr/local/lib/python3.10/dist-packages (from mediapipe->-r /content/drive/MyDrive/MagiCapture/requirements.txt (line 10)) (0.4.23)\n",
            "Requirement already satisfied: matplotlib in /usr/local/lib/python3.10/dist-packages (from mediapipe->-r /content/drive/MyDrive/MagiCapture/requirements.txt (line 10)) (3.7.1)\n",
            "Requirement already satisfied: opencv-contrib-python in /usr/local/lib/python3.10/dist-packages (from mediapipe->-r /content/drive/MyDrive/MagiCapture/requirements.txt (line 10)) (4.10.0.84)\n",
            "Requirement already satisfied: sounddevice>=0.4.4 in /usr/local/lib/python3.10/dist-packages (from mediapipe->-r /content/drive/MyDrive/MagiCapture/requirements.txt (line 10)) (0.4.7)\n",
            "Requirement already satisfied: grpcio>=1.48.2 in /usr/local/lib/python3.10/dist-packages (from tensorboard->-r /content/drive/MyDrive/MagiCapture/requirements.txt (line 11)) (1.64.1)\n",
            "Requirement already satisfied: google-auth<3,>=1.6.3 in /usr/local/lib/python3.10/dist-packages (from tensorboard->-r /content/drive/MyDrive/MagiCapture/requirements.txt (line 11)) (2.27.0)\n",
            "Requirement already satisfied: google-auth-oauthlib<2,>=0.5 in /usr/local/lib/python3.10/dist-packages (from tensorboard->-r /content/drive/MyDrive/MagiCapture/requirements.txt (line 11)) (1.2.1)\n",
            "Requirement already satisfied: markdown>=2.6.8 in /usr/local/lib/python3.10/dist-packages (from tensorboard->-r /content/drive/MyDrive/MagiCapture/requirements.txt (line 11)) (3.6)\n",
            "Requirement already satisfied: tensorboard-data-server<0.8.0,>=0.7.0 in /usr/local/lib/python3.10/dist-packages (from tensorboard->-r /content/drive/MyDrive/MagiCapture/requirements.txt (line 11)) (0.7.2)\n",
            "Requirement already satisfied: werkzeug>=1.0.1 in /usr/local/lib/python3.10/dist-packages (from tensorboard->-r /content/drive/MyDrive/MagiCapture/requirements.txt (line 11)) (3.0.3)\n",
            "Requirement already satisfied: joblib>=1.1.1 in /usr/local/lib/python3.10/dist-packages (from scikit-learn->-r /content/drive/MyDrive/MagiCapture/requirements.txt (line 14)) (1.4.2)\n",
            "Requirement already satisfied: threadpoolctl>=2.0.0 in /usr/local/lib/python3.10/dist-packages (from scikit-learn->-r /content/drive/MyDrive/MagiCapture/requirements.txt (line 14)) (3.5.0)\n",
            "Requirement already satisfied: charset-normalizer<4,>=2 in /usr/local/lib/python3.10/dist-packages (from requests->-r /content/drive/MyDrive/MagiCapture/requirements.txt (line 20)) (3.3.2)\n",
            "Requirement already satisfied: idna<4,>=2.5 in /usr/local/lib/python3.10/dist-packages (from requests->-r /content/drive/MyDrive/MagiCapture/requirements.txt (line 20)) (3.7)\n",
            "Requirement already satisfied: urllib3<3,>=1.21.1 in /usr/local/lib/python3.10/dist-packages (from requests->-r /content/drive/MyDrive/MagiCapture/requirements.txt (line 20)) (2.0.7)\n",
            "Requirement already satisfied: certifi>=2017.4.17 in /usr/local/lib/python3.10/dist-packages (from requests->-r /content/drive/MyDrive/MagiCapture/requirements.txt (line 20)) (2024.7.4)\n",
            "Requirement already satisfied: networkx>=2.8 in /usr/local/lib/python3.10/dist-packages (from scikit-image->-r /content/drive/MyDrive/MagiCapture/requirements.txt (line 21)) (3.3)\n",
            "Requirement already satisfied: imageio>=2.33 in /usr/local/lib/python3.10/dist-packages (from scikit-image->-r /content/drive/MyDrive/MagiCapture/requirements.txt (line 21)) (2.34.2)\n",
            "Requirement already satisfied: tifffile>=2022.8.12 in /usr/local/lib/python3.10/dist-packages (from scikit-image->-r /content/drive/MyDrive/MagiCapture/requirements.txt (line 21)) (2024.7.21)\n",
            "Requirement already satisfied: lazy-loader>=0.4 in /usr/local/lib/python3.10/dist-packages (from scikit-image->-r /content/drive/MyDrive/MagiCapture/requirements.txt (line 21)) (0.4)\n",
            "Requirement already satisfied: tomli>=2.0.1 in /usr/local/lib/python3.10/dist-packages (from yapf->-r /content/drive/MyDrive/MagiCapture/requirements.txt (line 25)) (2.0.1)\n",
            "Requirement already satisfied: torchvision>=0.2.1 in /usr/local/lib/python3.10/dist-packages (from lpips->-r /content/drive/MyDrive/MagiCapture/requirements.txt (line 26)) (0.13.0)\n",
            "Requirement already satisfied: beautifulsoup4 in /usr/local/lib/python3.10/dist-packages (from gdown->-r /content/drive/MyDrive/MagiCapture/requirements.txt (line 27)) (4.12.3)\n",
            "Requirement already satisfied: kornia-rs>=0.1.0 in /usr/local/lib/python3.10/dist-packages (from kornia->-r /content/drive/MyDrive/MagiCapture/requirements.txt (line 31)) (0.1.5)\n",
            "Requirement already satisfied: albumentations in /usr/local/lib/python3.10/dist-packages (from insightface->-r /content/drive/MyDrive/MagiCapture/requirements.txt (line 32)) (1.3.1)\n",
            "Requirement already satisfied: prettytable in /usr/local/lib/python3.10/dist-packages (from insightface->-r /content/drive/MyDrive/MagiCapture/requirements.txt (line 32)) (3.10.2)\n",
            "Requirement already satisfied: coloredlogs in /usr/local/lib/python3.10/dist-packages (from onnxruntime->-r /content/drive/MyDrive/MagiCapture/requirements.txt (line 33)) (15.0.1)\n",
            "Requirement already satisfied: sympy in /usr/local/lib/python3.10/dist-packages (from onnxruntime->-r /content/drive/MyDrive/MagiCapture/requirements.txt (line 33)) (1.13.1)\n",
            "Requirement already satisfied: gitdb<5,>=4.0.1 in /usr/local/lib/python3.10/dist-packages (from gitpython!=3.1.29,>=1.0.0->wandb->-r /content/drive/MyDrive/MagiCapture/requirements.txt (line 7)) (4.0.11)\n",
            "Requirement already satisfied: cachetools<6.0,>=2.0.0 in /usr/local/lib/python3.10/dist-packages (from google-auth<3,>=1.6.3->tensorboard->-r /content/drive/MyDrive/MagiCapture/requirements.txt (line 11)) (5.4.0)\n",
            "Requirement already satisfied: pyasn1-modules>=0.2.1 in /usr/local/lib/python3.10/dist-packages (from google-auth<3,>=1.6.3->tensorboard->-r /content/drive/MyDrive/MagiCapture/requirements.txt (line 11)) (0.4.0)\n",
            "Requirement already satisfied: rsa<5,>=3.1.4 in /usr/local/lib/python3.10/dist-packages (from google-auth<3,>=1.6.3->tensorboard->-r /content/drive/MyDrive/MagiCapture/requirements.txt (line 11)) (4.9)\n",
            "Requirement already satisfied: requests-oauthlib>=0.7.0 in /usr/local/lib/python3.10/dist-packages (from google-auth-oauthlib<2,>=0.5->tensorboard->-r /content/drive/MyDrive/MagiCapture/requirements.txt (line 11)) (1.3.1)\n",
            "Requirement already satisfied: fsspec>=2023.5.0 in /usr/local/lib/python3.10/dist-packages (from huggingface-hub>=0.10.0->diffusers==0.14.0->-r /content/drive/MyDrive/MagiCapture/requirements.txt (line 2)) (2024.6.1)\n",
            "Requirement already satisfied: typing-extensions>=3.7.4.3 in /usr/local/lib/python3.10/dist-packages (from huggingface-hub>=0.10.0->diffusers==0.14.0->-r /content/drive/MyDrive/MagiCapture/requirements.txt (line 2)) (4.12.2)\n",
            "Requirement already satisfied: zipp>=0.5 in /usr/local/lib/python3.10/dist-packages (from importlib-metadata->diffusers==0.14.0->-r /content/drive/MyDrive/MagiCapture/requirements.txt (line 2)) (3.19.2)\n",
            "Requirement already satisfied: CFFI>=1.0 in /usr/local/lib/python3.10/dist-packages (from sounddevice>=0.4.4->mediapipe->-r /content/drive/MyDrive/MagiCapture/requirements.txt (line 10)) (1.16.0)\n",
            "Requirement already satisfied: MarkupSafe>=2.1.1 in /usr/local/lib/python3.10/dist-packages (from werkzeug>=1.0.1->tensorboard->-r /content/drive/MyDrive/MagiCapture/requirements.txt (line 11)) (2.1.5)\n",
            "Requirement already satisfied: qudida>=0.0.4 in /usr/local/lib/python3.10/dist-packages (from albumentations->insightface->-r /content/drive/MyDrive/MagiCapture/requirements.txt (line 32)) (0.0.4)\n",
            "Requirement already satisfied: opencv-python-headless>=4.1.1 in /usr/local/lib/python3.10/dist-packages (from albumentations->insightface->-r /content/drive/MyDrive/MagiCapture/requirements.txt (line 32)) (4.10.0.84)\n",
            "Requirement already satisfied: soupsieve>1.2 in /usr/local/lib/python3.10/dist-packages (from beautifulsoup4->gdown->-r /content/drive/MyDrive/MagiCapture/requirements.txt (line 27)) (2.5)\n",
            "Requirement already satisfied: humanfriendly>=9.1 in /usr/local/lib/python3.10/dist-packages (from coloredlogs->onnxruntime->-r /content/drive/MyDrive/MagiCapture/requirements.txt (line 33)) (10.0)\n",
            "Requirement already satisfied: ml-dtypes>=0.2.0 in /usr/local/lib/python3.10/dist-packages (from jax->mediapipe->-r /content/drive/MyDrive/MagiCapture/requirements.txt (line 10)) (0.2.0)\n",
            "Requirement already satisfied: opt-einsum in /usr/local/lib/python3.10/dist-packages (from jax->mediapipe->-r /content/drive/MyDrive/MagiCapture/requirements.txt (line 10)) (3.3.0)\n",
            "Requirement already satisfied: contourpy>=1.0.1 in /usr/local/lib/python3.10/dist-packages (from matplotlib->mediapipe->-r /content/drive/MyDrive/MagiCapture/requirements.txt (line 10)) (1.2.1)\n",
            "Requirement already satisfied: cycler>=0.10 in /usr/local/lib/python3.10/dist-packages (from matplotlib->mediapipe->-r /content/drive/MyDrive/MagiCapture/requirements.txt (line 10)) (0.12.1)\n",
            "Requirement already satisfied: fonttools>=4.22.0 in /usr/local/lib/python3.10/dist-packages (from matplotlib->mediapipe->-r /content/drive/MyDrive/MagiCapture/requirements.txt (line 10)) (4.53.1)\n",
            "Requirement already satisfied: kiwisolver>=1.0.1 in /usr/local/lib/python3.10/dist-packages (from matplotlib->mediapipe->-r /content/drive/MyDrive/MagiCapture/requirements.txt (line 10)) (1.4.5)\n",
            "Requirement already satisfied: pyparsing>=2.3.1 in /usr/local/lib/python3.10/dist-packages (from matplotlib->mediapipe->-r /content/drive/MyDrive/MagiCapture/requirements.txt (line 10)) (3.1.2)\n",
            "Requirement already satisfied: python-dateutil>=2.7 in /usr/local/lib/python3.10/dist-packages (from matplotlib->mediapipe->-r /content/drive/MyDrive/MagiCapture/requirements.txt (line 10)) (2.8.2)\n",
            "Requirement already satisfied: PySocks!=1.5.7,>=1.5.6 in /usr/local/lib/python3.10/dist-packages (from requests[socks]->gdown->-r /content/drive/MyDrive/MagiCapture/requirements.txt (line 27)) (1.7.1)\n",
            "Requirement already satisfied: mpmath<1.4,>=1.1.0 in /usr/local/lib/python3.10/dist-packages (from sympy->onnxruntime->-r /content/drive/MyDrive/MagiCapture/requirements.txt (line 33)) (1.3.0)\n",
            "Requirement already satisfied: pycparser in /usr/local/lib/python3.10/dist-packages (from CFFI>=1.0->sounddevice>=0.4.4->mediapipe->-r /content/drive/MyDrive/MagiCapture/requirements.txt (line 10)) (2.22)\n",
            "Requirement already satisfied: smmap<6,>=3.0.1 in /usr/local/lib/python3.10/dist-packages (from gitdb<5,>=4.0.1->gitpython!=3.1.29,>=1.0.0->wandb->-r /content/drive/MyDrive/MagiCapture/requirements.txt (line 7)) (5.0.1)\n",
            "Requirement already satisfied: pyasn1<0.7.0,>=0.4.6 in /usr/local/lib/python3.10/dist-packages (from pyasn1-modules>=0.2.1->google-auth<3,>=1.6.3->tensorboard->-r /content/drive/MyDrive/MagiCapture/requirements.txt (line 11)) (0.6.0)\n",
            "Requirement already satisfied: oauthlib>=3.0.0 in /usr/local/lib/python3.10/dist-packages (from requests-oauthlib>=0.7.0->google-auth-oauthlib<2,>=0.5->tensorboard->-r /content/drive/MyDrive/MagiCapture/requirements.txt (line 11)) (3.2.2)\n",
            "Using cached mxnet-1.6.0-py2.py3-none-any.whl (68.7 MB)\n",
            "Using cached mxnet_cu112-1.9.1-py3-none-manylinux2014_x86_64.whl (499.4 MB)\n",
            "Installing collected packages: mxnet-cu112, mxnet\n",
            "Successfully installed mxnet-1.6.0 mxnet-cu112-1.9.1\n"
          ]
        }
      ]
    },
    {
      "cell_type": "code",
      "source": [
        "!pip install jax==0.4.23 jaxlib==0.4.23 diffusers==0.14.0"
      ],
      "metadata": {
        "id": "8jLI-pHof2fT",
        "colab": {
          "base_uri": "https://localhost:8080/"
        },
        "outputId": "df97031f-f90b-45c6-ad88-6a5dec4697ce"
      },
      "execution_count": 11,
      "outputs": [
        {
          "output_type": "stream",
          "name": "stdout",
          "text": [
            "Requirement already satisfied: jax==0.4.23 in /usr/local/lib/python3.10/dist-packages (0.4.23)\n",
            "Requirement already satisfied: jaxlib==0.4.23 in /usr/local/lib/python3.10/dist-packages (0.4.23)\n",
            "Requirement already satisfied: diffusers==0.14.0 in /usr/local/lib/python3.10/dist-packages (0.14.0)\n",
            "Requirement already satisfied: ml-dtypes>=0.2.0 in /usr/local/lib/python3.10/dist-packages (from jax==0.4.23) (0.2.0)\n",
            "Requirement already satisfied: numpy>=1.22 in /usr/local/lib/python3.10/dist-packages (from jax==0.4.23) (1.23.5)\n",
            "Requirement already satisfied: opt-einsum in /usr/local/lib/python3.10/dist-packages (from jax==0.4.23) (3.3.0)\n",
            "Requirement already satisfied: scipy>=1.9 in /usr/local/lib/python3.10/dist-packages (from jax==0.4.23) (1.13.1)\n",
            "Requirement already satisfied: importlib-metadata in /usr/local/lib/python3.10/dist-packages (from diffusers==0.14.0) (8.1.0)\n",
            "Requirement already satisfied: filelock in /usr/local/lib/python3.10/dist-packages (from diffusers==0.14.0) (3.15.4)\n",
            "Requirement already satisfied: huggingface-hub>=0.10.0 in /usr/local/lib/python3.10/dist-packages (from diffusers==0.14.0) (0.23.5)\n",
            "Requirement already satisfied: regex!=2019.12.17 in /usr/local/lib/python3.10/dist-packages (from diffusers==0.14.0) (2024.5.15)\n",
            "Requirement already satisfied: requests in /usr/local/lib/python3.10/dist-packages (from diffusers==0.14.0) (2.31.0)\n",
            "Requirement already satisfied: Pillow in /usr/local/lib/python3.10/dist-packages (from diffusers==0.14.0) (9.4.0)\n",
            "Requirement already satisfied: fsspec>=2023.5.0 in /usr/local/lib/python3.10/dist-packages (from huggingface-hub>=0.10.0->diffusers==0.14.0) (2024.6.1)\n",
            "Requirement already satisfied: packaging>=20.9 in /usr/local/lib/python3.10/dist-packages (from huggingface-hub>=0.10.0->diffusers==0.14.0) (24.1)\n",
            "Requirement already satisfied: pyyaml>=5.1 in /usr/local/lib/python3.10/dist-packages (from huggingface-hub>=0.10.0->diffusers==0.14.0) (6.0.1)\n",
            "Requirement already satisfied: tqdm>=4.42.1 in /usr/local/lib/python3.10/dist-packages (from huggingface-hub>=0.10.0->diffusers==0.14.0) (4.66.4)\n",
            "Requirement already satisfied: typing-extensions>=3.7.4.3 in /usr/local/lib/python3.10/dist-packages (from huggingface-hub>=0.10.0->diffusers==0.14.0) (4.12.2)\n",
            "Requirement already satisfied: zipp>=0.5 in /usr/local/lib/python3.10/dist-packages (from importlib-metadata->diffusers==0.14.0) (3.19.2)\n",
            "Requirement already satisfied: charset-normalizer<4,>=2 in /usr/local/lib/python3.10/dist-packages (from requests->diffusers==0.14.0) (3.3.2)\n",
            "Requirement already satisfied: idna<4,>=2.5 in /usr/local/lib/python3.10/dist-packages (from requests->diffusers==0.14.0) (3.7)\n",
            "Requirement already satisfied: urllib3<3,>=1.21.1 in /usr/local/lib/python3.10/dist-packages (from requests->diffusers==0.14.0) (2.0.7)\n",
            "Requirement already satisfied: certifi>=2017.4.17 in /usr/local/lib/python3.10/dist-packages (from requests->diffusers==0.14.0) (2024.7.4)\n"
          ]
        }
      ]
    },
    {
      "cell_type": "code",
      "source": [
        "import os\n",
        "os.environ['MODEL_NAME'] = \"runwayml/stable-diffusion-v1-5\"\n",
        "os.environ['INSTANCE_DIR'] = \"data/instance_data\"\n",
        "os.environ['CLASS_DIR'] = \"data/class_data\"\n",
        "os.environ['STYLE_DIR'] = \"data/style_data\"\n",
        "os.environ['OUTPUT_DIR'] = \"output\""
      ],
      "metadata": {
        "id": "AHb1meVHf2hv"
      },
      "execution_count": 10,
      "outputs": []
    },
    {
      "cell_type": "code",
      "source": [
        "import numpy as np"
      ],
      "metadata": {
        "id": "bs-_SJMFkyXo"
      },
      "execution_count": 9,
      "outputs": []
    },
    {
      "cell_type": "code",
      "source": [
        "!pip install cython"
      ],
      "metadata": {
        "colab": {
          "base_uri": "https://localhost:8080/"
        },
        "id": "TzW8H4UeopZA",
        "outputId": "40dd3a39-b375-4d48-8525-de65253165ff"
      },
      "execution_count": 4,
      "outputs": [
        {
          "output_type": "stream",
          "name": "stdout",
          "text": [
            "Requirement already satisfied: cython in /usr/local/lib/python3.10/dist-packages (3.0.10)\n"
          ]
        }
      ]
    },
    {
      "cell_type": "code",
      "source": [
        "%%writefile bbox_overlaps.pyx\n",
        "\n",
        "import numpy as np\n",
        "cimport numpy as np\n",
        "\n",
        "ctypedef np.float64_t DTYPE_t\n",
        "\n",
        "def bbox_overlaps_cython(\n",
        "        np.ndarray[DTYPE_t, ndim=2] boxes,\n",
        "        np.ndarray[DTYPE_t, ndim=2] query_boxes):\n",
        "    \"\"\"\n",
        "    Parameters\n",
        "    ----------\n",
        "    boxes: (N, 4) ndarray of float\n",
        "    query_boxes: (K, 4) ndarray of float\n",
        "    Returns\n",
        "    -------\n",
        "    overlaps: (N, K) ndarray of overlap between boxes and query_boxes\n",
        "    \"\"\"\n",
        "    cdef unsigned int N = boxes.shape[0]\n",
        "    cdef unsigned int K = query_boxes.shape[0]\n",
        "    cdef np.ndarray[DTYPE_t, ndim=2] overlaps = np.zeros((N, K), dtype=np.float64)\n",
        "    cdef DTYPE_t iw, ih, box_area\n",
        "    cdef DTYPE_t ua\n",
        "    cdef unsigned int k, n\n",
        "\n",
        "    for k in range(K):\n",
        "        box_area = (\n",
        "            (query_boxes[k, 2] - query_boxes[k, 0] + 1) *\n",
        "            (query_boxes[k, 3] - query_boxes[k, 1] + 1)\n",
        "        )\n",
        "        for n in range(N):\n",
        "            iw = (\n",
        "                min(boxes[n, 2], query_boxes[k, 2]) -\n",
        "                max(boxes[n, 0], query_boxes[k, 0]) + 1\n",
        "            )\n",
        "            if iw > 0:\n",
        "                ih = (\n",
        "                    min(boxes[n, 3], query_boxes[k, 3]) -\n",
        "                    max(boxes[n, 1], query_boxes[k, 1]) + 1\n",
        "                )\n",
        "                if ih > 0:\n",
        "                    ua = (\n",
        "                        (boxes[n, 2] - boxes[n, 0] + 1) *\n",
        "                        (boxes[n, 3] - boxes[n, 1] + 1) +\n",
        "                        box_area - iw * ih\n",
        "                    )\n",
        "                    overlaps[n, k] = iw * ih / ua\n",
        "    return overlaps"
      ],
      "metadata": {
        "colab": {
          "base_uri": "https://localhost:8080/"
        },
        "id": "FRTWPpKDopcV",
        "outputId": "1527010b-425b-4aba-fc2f-52f50f73b855"
      },
      "execution_count": 5,
      "outputs": [
        {
          "output_type": "stream",
          "name": "stdout",
          "text": [
            "Writing bbox_overlaps.pyx\n"
          ]
        }
      ]
    },
    {
      "cell_type": "code",
      "source": [
        "# from rcnn.config import config"
      ],
      "metadata": {
        "id": "9KOAa9FGlwED"
      },
      "execution_count": 7,
      "outputs": []
    },
    {
      "cell_type": "code",
      "source": [
        "%cd /content/drive/MyDrive/MagiCapture"
      ],
      "metadata": {
        "colab": {
          "base_uri": "https://localhost:8080/"
        },
        "id": "GM-rdsG2pCso",
        "outputId": "f517dabf-c9d9-46d9-a793-8c8586a838cb"
      },
      "execution_count": 13,
      "outputs": [
        {
          "output_type": "stream",
          "name": "stdout",
          "text": [
            "/content/drive/MyDrive/MagiCapture\n"
          ]
        }
      ]
    },
    {
      "cell_type": "code",
      "source": [
        "%cd /content/drive/MyDrive/MagiCapture/insightface_/detection/retinaface/rcnn/cython"
      ],
      "metadata": {
        "colab": {
          "base_uri": "https://localhost:8080/"
        },
        "id": "6Y9Dk6H1pic8",
        "outputId": "bdfb085d-ba95-4eb1-95fa-2a3a9ae3921c"
      },
      "execution_count": 9,
      "outputs": [
        {
          "output_type": "stream",
          "name": "stdout",
          "text": [
            "/content/drive/MyDrive/MagiCapture/insightface_/detection/retinaface/rcnn/cython\n"
          ]
        }
      ]
    },
    {
      "cell_type": "code",
      "source": [
        "!pip install cupy\n",
        "!python setup.py build_ext --inplace"
      ],
      "metadata": {
        "colab": {
          "base_uri": "https://localhost:8080/"
        },
        "id": "xKU3y7svpkeA",
        "outputId": "72d51bc9-8df8-46b7-aeef-ff11da226adf"
      },
      "execution_count": 11,
      "outputs": [
        {
          "output_type": "stream",
          "name": "stdout",
          "text": [
            "Collecting cupy\n",
            "  Downloading cupy-13.2.0.tar.gz (3.5 MB)\n",
            "\u001b[?25l     \u001b[90m━━━━━━━━━━━━━━━━━━━━━━━━━━━━━━━━━━━━━━━━\u001b[0m \u001b[32m0.0/3.5 MB\u001b[0m \u001b[31m?\u001b[0m eta \u001b[36m-:--:--\u001b[0m\r\u001b[2K     \u001b[91m━━━━━━━━\u001b[0m\u001b[91m╸\u001b[0m\u001b[90m━━━━━━━━━━━━━━━━━━━━━━━━━━━━━━━\u001b[0m \u001b[32m0.8/3.5 MB\u001b[0m \u001b[31m23.0 MB/s\u001b[0m eta \u001b[36m0:00:01\u001b[0m\r\u001b[2K     \u001b[91m━━━━━━━━━━━━━━━━━━━━━━━━━━━━━━━━━━━━━━━\u001b[0m\u001b[91m╸\u001b[0m \u001b[32m3.5/3.5 MB\u001b[0m \u001b[31m67.6 MB/s\u001b[0m eta \u001b[36m0:00:01\u001b[0m\r\u001b[2K     \u001b[90m━━━━━━━━━━━━━━━━━━━━━━━━━━━━━━━━━━━━━━━━\u001b[0m \u001b[32m3.5/3.5 MB\u001b[0m \u001b[31m47.9 MB/s\u001b[0m eta \u001b[36m0:00:00\u001b[0m\n",
            "\u001b[?25h  Preparing metadata (setup.py) ... \u001b[?25l\u001b[?25hdone\n",
            "Requirement already satisfied: numpy<2.3,>=1.22 in /usr/local/lib/python3.10/dist-packages (from cupy) (1.23.5)\n",
            "Requirement already satisfied: fastrlock>=0.5 in /usr/local/lib/python3.10/dist-packages (from cupy) (0.8.2)\n",
            "Building wheels for collected packages: cupy\n",
            "  \u001b[1;31merror\u001b[0m: \u001b[1msubprocess-exited-with-error\u001b[0m\n",
            "  \n",
            "  \u001b[31m×\u001b[0m \u001b[32mpython setup.py bdist_wheel\u001b[0m did not run successfully.\n",
            "  \u001b[31m│\u001b[0m exit code: \u001b[1;36m1\u001b[0m\n",
            "  \u001b[31m╰─>\u001b[0m See above for output.\n",
            "  \n",
            "  \u001b[1;35mnote\u001b[0m: This error originates from a subprocess, and is likely not a problem with pip.\n",
            "  Building wheel for cupy (setup.py) ... \u001b[?25lerror\n",
            "\u001b[31m  ERROR: Failed building wheel for cupy\u001b[0m\u001b[31m\n",
            "\u001b[0m\u001b[?25h  Running setup.py clean for cupy\n",
            "Failed to build cupy\n",
            "\u001b[31mERROR: ERROR: Failed to build installable wheels for some pyproject.toml based projects (cupy)\u001b[0m\u001b[31m\n",
            "\u001b[0mrunning build_ext\n",
            "building 'gpu_nms' extension\n",
            "error: unknown file type '.cu' (from 'nms_kernel.cu')\n"
          ]
        }
      ]
    },
    {
      "cell_type": "code",
      "source": [
        "# from setuptools import setup\n",
        "# from Cython.Build import cythonize\n",
        "# import numpy as np\n",
        "\n",
        "# setup(\n",
        "#     ext_modules = cythonize(\"bbox.pyx\"),\n",
        "#     include_dirs=[np.get_include()]\n",
        "# )"
      ],
      "metadata": {
        "id": "2jLkaZHqprSI"
      },
      "execution_count": 35,
      "outputs": []
    },
    {
      "cell_type": "code",
      "source": [
        "!CUDA_VISIBLE_DEVICES=1 python /content/drive/MyDrive/MagiCapture/lora_diffusion_/magicapture_train.py \\\n",
        "  --pretrained_model_name_or_path=/content/drive/MyDrive/MagiCapture/arcface_torch/models/ms1mv3_arcface_r100_fp16 \\\n",
        "  --instance_data_dir=/content/drive/MyDrive/MagiCapture/data/instance_data \\\n",
        "  --style_data_dir=/content/drive/MyDrive/MagiCapture/data/style_data \\\n",
        "  --output_dir=/content/drive/MyDrive/MagiCapture \\\n",
        "  --resolution=512 \\\n",
        "  --with_prior_preservation=False \\\n",
        "  --train_text_encoder \\\n",
        "  --train_batch_size=1 \\\n",
        "  --gradient_accumulation_steps=4 --gradient_checkpointing \\\n",
        "  --scale_lr \\\n",
        "  --initializer_tokens=\"person\" \\\n",
        "  --learning_rate_unet=1e-4 \\\n",
        "  --learning_rate_text=1e-5 \\\n",
        "  --learning_rate_ti=5e-4 \\\n",
        "  --color_jitter \\\n",
        "  --lr_scheduler=\"linear\" \\\n",
        "  --lr_warmup_steps=0 \\\n",
        "  --placeholder_tokens=\"<sks>\" \\\n",
        "  --placeholder_tokens_style=\"<style1>\" \\\n",
        "  --save_steps=8000 \\\n",
        "  --max_train_steps_ti=1200 \\\n",
        "  --max_train_steps_tuning=1500 \\\n",
        "  --perform_inversion=True \\\n",
        "  --clip_ti_decay \\\n",
        "  --weight_decay_ti=0.000 \\\n",
        "  --weight_decay_lora=0.001 \\\n",
        "  --continue_inversion \\\n",
        "  --continue_inversion_lr=1e-4 \\\n",
        "  --device=\"cuda:0\" \\\n",
        "  --lora_rank=4 \\\n",
        "  --log_wandb=False \\\n",
        "  --lambda_arc=0.25 \\\n",
        "  --lambda_style=2"
      ],
      "metadata": {
        "id": "gjh47qEwf2kd",
        "colab": {
          "base_uri": "https://localhost:8080/"
        },
        "outputId": "24b6f317-6d82-46a6-da99-e19d3b9ab140"
      },
      "execution_count": 17,
      "outputs": [
        {
          "output_type": "stream",
          "name": "stdout",
          "text": [
            "2024-07-27 19:57:45.326162: E external/local_xla/xla/stream_executor/cuda/cuda_dnn.cc:9261] Unable to register cuDNN factory: Attempting to register factory for plugin cuDNN when one has already been registered\n",
            "2024-07-27 19:57:45.326213: E external/local_xla/xla/stream_executor/cuda/cuda_fft.cc:607] Unable to register cuFFT factory: Attempting to register factory for plugin cuFFT when one has already been registered\n",
            "2024-07-27 19:57:45.327591: E external/local_xla/xla/stream_executor/cuda/cuda_blas.cc:1515] Unable to register cuBLAS factory: Attempting to register factory for plugin cuBLAS when one has already been registered\n",
            "2024-07-27 19:57:46.434046: W tensorflow/compiler/tf2tensorrt/utils/py_utils.cc:38] TF-TRT Warning: Could not find TensorRT\n",
            "/content/drive/MyDrive/MagiCapture\n",
            "['/content/drive/MyDrive/MagiCapture/lora_diffusion_', '/env/python', '/usr/lib/python310.zip', '/usr/lib/python3.10', '/usr/lib/python3.10/lib-dynload', '/usr/local/lib/python3.10/dist-packages', '/usr/lib/python3/dist-packages', '/usr/local/lib/python3.10/dist-packages/setuptools/_vendor', '/content/drive/MyDrive/MagiCapture', '/content/drive/MyDrive/MagiCapture/lora_diffusion_']\n",
            "Traceback (most recent call last):\n",
            "  File \"/content/drive/MyDrive/MagiCapture/lora_diffusion_/magicapture_train.py\", line 44, in <module>\n",
            "    from lora_diffusion_ import (\n",
            "  File \"/content/drive/MyDrive/MagiCapture/lora_diffusion_/__init__.py\", line 2, in <module>\n",
            "    from .dataset import *\n",
            "  File \"/content/drive/MyDrive/MagiCapture/lora_diffusion_/dataset.py\", line 14, in <module>\n",
            "    from .loss_utils import get_face_feature_from_tensor, get_face_feature_from_folder\n",
            "  File \"/content/drive/MyDrive/MagiCapture/lora_diffusion_/loss_utils.py\", line 20, in <module>\n",
            "    from build_eval_pack import get_norm_crop, get_norm_crop2\n",
            "  File \"/content/drive/MyDrive/MagiCapture/build_eval_pack.py\", line 19, in <module>\n",
            "    from insightface_.detection.retinaface.retinaface import RetinaFace\n",
            "  File \"/content/drive/MyDrive/MagiCapture/insightface_/detection/retinaface/retinaface.py\", line 7, in <module>\n",
            "    import mxnet as mx\n",
            "  File \"/usr/local/lib/python3.10/dist-packages/mxnet/__init__.py\", line 23, in <module>\n",
            "    from .context import Context, current_context, cpu, gpu, cpu_pinned\n",
            "  File \"/usr/local/lib/python3.10/dist-packages/mxnet/context.py\", line 23, in <module>\n",
            "    from .base import classproperty, with_metaclass, _MXClassPropertyMetaClass\n",
            "  File \"/usr/local/lib/python3.10/dist-packages/mxnet/base.py\", line 356, in <module>\n",
            "    _LIB = _load_lib()\n",
            "  File \"/usr/local/lib/python3.10/dist-packages/mxnet/base.py\", line 347, in _load_lib\n",
            "    lib = ctypes.CDLL(lib_path[0], ctypes.RTLD_LOCAL)\n",
            "  File \"/usr/lib/python3.10/ctypes/__init__.py\", line 374, in __init__\n",
            "    self._handle = _dlopen(self._name, mode)\n",
            "OSError: libcudart.so.11.0: cannot open shared object file: No such file or directory\n"
          ]
        }
      ]
    },
    {
      "cell_type": "code",
      "source": [
        "!ls"
      ],
      "metadata": {
        "colab": {
          "base_uri": "https://localhost:8080/"
        },
        "id": "-lf-7Hzf-lh5",
        "outputId": "17cbe7df-f99f-4eae-f438-7822d1de49ea"
      },
      "execution_count": 6,
      "outputs": [
        {
          "output_type": "stream",
          "name": "stdout",
          "text": [
            "arcface_torch\t    environment.yaml\t      inference.sh     __pycache__\n",
            "build_eval_pack.py  face_align.py\t      insightface_     README.md\n",
            "CodeFormer\t    face_parsing_PyTorch      LICENSE\t       requirements.txt\n",
            "data\t\t    inference_magicapture.py  lora_diffusion_  train_magicapture.sh\n"
          ]
        }
      ]
    },
    {
      "cell_type": "code",
      "source": [
        "import sys\n",
        "sys.path.append('/content/drive/MyDrive/MagiCapture')"
      ],
      "metadata": {
        "id": "NFA6LyQt-tnl"
      },
      "execution_count": 7,
      "outputs": []
    },
    {
      "cell_type": "code",
      "source": [
        "!pip install cython\n"
      ],
      "metadata": {
        "colab": {
          "base_uri": "https://localhost:8080/"
        },
        "id": "CnTzkYyk7xAb",
        "outputId": "632808a5-bfcd-4863-dca6-eb662ce0e7c0"
      },
      "execution_count": 3,
      "outputs": [
        {
          "output_type": "stream",
          "name": "stdout",
          "text": [
            "Requirement already satisfied: cython in /usr/local/lib/python3.10/dist-packages (3.0.10)\n"
          ]
        }
      ]
    },
    {
      "cell_type": "code",
      "source": [
        "%%writefile setup.py\n",
        "\n",
        "from setuptools import setup\n",
        "from Cython.Build import cythonize\n",
        "from distutils.extension import Extension\n",
        "import numpy as np\n",
        "\n",
        "extensions = [\n",
        "    Extension(\n",
        "        \"bbox\",\n",
        "        [\"bbox.pyx\"],\n",
        "        extra_compile_args=['-Wno-cpp', '-Wno-unused-function']\n",
        "    ),\n",
        "    Extension(\n",
        "        \"anchors\",\n",
        "        [\"anchors.pyx\"],\n",
        "        extra_compile_args=['-Wno-cpp', '-Wno-unused-function']\n",
        "    ),\n",
        "    Extension(\n",
        "        \"cpu_nms\",\n",
        "        [\"cpu_nms.pyx\"],\n",
        "        extra_compile_args=['-Wno-cpp', '-Wno-unused-function']\n",
        "    ),\n",
        "    Extension(\n",
        "        \"gpu_nms\",\n",
        "        [\"gpu_nms.pyx\", \"nms_kernel.cu\"],\n",
        "        library_dirs=['/usr/local/cuda/lib64'],\n",
        "        libraries=['cudart'],\n",
        "        language='c++',\n",
        "        runtime_library_dirs=['/usr/local/cuda/lib64'],\n",
        "        extra_compile_args={\n",
        "            'gcc': ['-Wno-unused-function'],\n",
        "            'nvcc': ['-arch=sm_75']  # This is correct for T4 GPU\n",
        "        }\n",
        "    )\n",
        "]\n",
        "\n",
        "setup(\n",
        "    ext_modules=cythonize(extensions),\n",
        "    include_dirs=[np.get_include(), '/usr/local/cuda/include']\n",
        ")"
      ],
      "metadata": {
        "colab": {
          "base_uri": "https://localhost:8080/"
        },
        "id": "PhdqfajlqAHY",
        "outputId": "50fd31fa-00aa-4e95-da40-ffc638d231fc"
      },
      "execution_count": 15,
      "outputs": [
        {
          "output_type": "stream",
          "name": "stdout",
          "text": [
            "Overwriting setup.py\n"
          ]
        }
      ]
    }
  ]
}