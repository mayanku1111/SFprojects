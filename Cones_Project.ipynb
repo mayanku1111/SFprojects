{
 "cells": [
  {
   "cell_type": "code",
   "execution_count": null,
   "metadata": {},
   "outputs": [],
   "source": [
    "cd Cones-V2\n",
    "pip install -r requirements.txt"
   ]
  },
  {
   "cell_type": "code",
   "execution_count": null,
   "metadata": {},
   "outputs": [],
   "source": [
    "accelerate config"
   ]
  },
  {
   "cell_type": "code",
   "execution_count": null,
   "metadata": {},
   "outputs": [],
   "source": [
    "pip install git+https://github.com/huggingface/accelerate"
   ]
  },
  {
   "cell_type": "code",
   "execution_count": null,
   "metadata": {},
   "outputs": [],
   "source": [
    "import subprocess\n",
    "import sys\n",
    "\n",
    "\n",
    "MODEL_NAME = 'stabilityai/stable-diffusion-2-1-base'\n",
    "INSTANCE_DIR = \"./data/flower\"\n",
    "OUTPUT_DIR = \"path-to-save-model\"\n",
    "\n",
    "\n",
    "!python train_cones2.py \\\n",
    "    --accelerate, launch, train_cones2.py \\\n",
    "    --pretrained_model_name_or_path={MODEL_NAME} \\\n",
    "    --instance_data_dir={INSTANCE_DIR} \\\n",
    "    --instance_prompt=flower \\\n",
    "    --token_num=1 \\\n",
    "    --output_dir={OUTPUT_DIR} \\\n",
    "    --resolution=768 \\\n",
    "    --train_batch_size=1 \\\n",
    "    --gradient_accumulation_steps=1 \\\n",
    "    --learning_rate=5e-6 \\\n",
    "    --lr_scheduler=constant \\\n",
    "    --lr_warmup_steps=0 \\\n",
    "    --max_train_steps=4000 \\\n",
    "    --loss_rate_first=1e-2 \\\n",
    "    --loss_rate_second=1e-3 \\\n",
    "\n"
   ]
  },
  {
   "cell_type": "code",
   "execution_count": null,
   "metadata": {},
   "outputs": [],
   "source": []
  },
  {
   "cell_type": "code",
   "execution_count": null,
   "metadata": {},
   "outputs": [],
   "source": []
  }
 ],
 "metadata": {
  "language_info": {
   "name": "python"
  }
 },
 "nbformat": 4,
 "nbformat_minor": 2
}
