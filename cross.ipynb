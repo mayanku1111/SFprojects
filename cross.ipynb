{
  "nbformat": 4,
  "nbformat_minor": 0,
  "metadata": {
    "colab": {
      "provenance": [],
      "gpuType": "T4",
      "authorship_tag": "ABX9TyO+U2Ovo8X6okxtJJMV9a8W",
      "include_colab_link": true
    },
    "kernelspec": {
      "name": "python3",
      "display_name": "Python 3"
    },
    "language_info": {
      "name": "python"
    },
    "accelerator": "GPU"
  },
  "cells": [
    {
      "cell_type": "markdown",
      "metadata": {
        "id": "view-in-github",
        "colab_type": "text"
      },
      "source": [
        "<a href=\"https://colab.research.google.com/github/mayanku1111/SFprojects/blob/main/cross.ipynb\" target=\"_parent\"><img src=\"https://colab.research.google.com/assets/colab-badge.svg\" alt=\"Open In Colab\"/></a>"
      ]
    },
    {
      "cell_type": "code",
      "execution_count": 1,
      "metadata": {
        "id": "nRQ_lPLjV5lF",
        "colab": {
          "base_uri": "https://localhost:8080/"
        },
        "outputId": "ab47822d-13ef-49f1-eedc-f6ce1503af3d"
      },
      "outputs": [
        {
          "output_type": "stream",
          "name": "stdout",
          "text": [
            "Mounted at /content/drive\n"
          ]
        }
      ],
      "source": [
        "from google.colab import drive\n",
        "drive.mount('/content/drive')"
      ]
    },
    {
      "cell_type": "code",
      "source": [
        "%cd /content/drive/MyDrive/CrossInitialization"
      ],
      "metadata": {
        "colab": {
          "base_uri": "https://localhost:8080/"
        },
        "id": "LpYHfR_QYDoS",
        "outputId": "f1a275ba-d88b-4fcd-b978-7698226f305b"
      },
      "execution_count": 2,
      "outputs": [
        {
          "output_type": "stream",
          "name": "stdout",
          "text": [
            "/content/drive/MyDrive/CrossInitialization\n"
          ]
        }
      ]
    },
    {
      "cell_type": "code",
      "source": [
        "!ls"
      ],
      "metadata": {
        "colab": {
          "base_uri": "https://localhost:8080/"
        },
        "id": "sJy_ZqzEYDr-",
        "outputId": "c157c6bd-7be7-425b-84ae-4a907850fdc0"
      },
      "execution_count": 3,
      "outputs": [
        {
          "output_type": "stream",
          "name": "stdout",
          "text": [
            "assets\t  LICENSE  models\tREADME.md\t  test_cross_init.py\t\ttrain_cross_init.py\n",
            "examples  logs\t   __pycache__\trequirements.txt  textual_inversion_dataset.py\tutils.py\n"
          ]
        }
      ]
    },
    {
      "cell_type": "code",
      "source": [
        "import sys\n",
        "sys.path.append('/content/drive/MyDrive/CrossInitialization')"
      ],
      "metadata": {
        "id": "J0VzI0VVYDud"
      },
      "execution_count": 4,
      "outputs": []
    },
    {
      "cell_type": "code",
      "source": [
        "!pip install -r requirements.txt"
      ],
      "metadata": {
        "colab": {
          "base_uri": "https://localhost:8080/"
        },
        "id": "bSXN3XPGYDw-",
        "outputId": "e4319094-5385-4e57-89c5-44dd8f2cf915"
      },
      "execution_count": 5,
      "outputs": [
        {
          "output_type": "stream",
          "name": "stdout",
          "text": [
            "Collecting diffusers==0.21.2 (from diffusers[torch]==0.21.2->-r requirements.txt (line 1))\n",
            "  Downloading diffusers-0.21.2.tar.gz (1.1 MB)\n",
            "\u001b[?25l     \u001b[90m━━━━━━━━━━━━━━━━━━━━━━━━━━━━━━━━━━━━━━━━\u001b[0m \u001b[32m0.0/1.1 MB\u001b[0m \u001b[31m?\u001b[0m eta \u001b[36m-:--:--\u001b[0m\r\u001b[2K     \u001b[90m━━━━━━━━━━━━━━━━━━━━━━━━━━━━━━━━━━━━━━━━\u001b[0m \u001b[32m1.1/1.1 MB\u001b[0m \u001b[31m36.8 MB/s\u001b[0m eta \u001b[36m0:00:00\u001b[0m\n",
            "\u001b[?25h  Installing build dependencies ... \u001b[?25l\u001b[?25hdone\n",
            "  Getting requirements to build wheel ... \u001b[?25l\u001b[?25hdone\n",
            "  Preparing metadata (pyproject.toml) ... \u001b[?25l\u001b[?25hdone\n",
            "Collecting accelerate==0.20.3 (from -r requirements.txt (line 2))\n",
            "  Downloading accelerate-0.20.3-py3-none-any.whl.metadata (17 kB)\n",
            "Requirement already satisfied: torchvision in /usr/local/lib/python3.10/dist-packages (from -r requirements.txt (line 3)) (0.18.1+cu121)\n",
            "Collecting transformers==4.25.1 (from -r requirements.txt (line 4))\n",
            "  Downloading transformers-4.25.1-py3-none-any.whl.metadata (93 kB)\n",
            "\u001b[2K     \u001b[90m━━━━━━━━━━━━━━━━━━━━━━━━━━━━━━━━━━━━━━━━\u001b[0m \u001b[32m93.9/93.9 kB\u001b[0m \u001b[31m9.5 MB/s\u001b[0m eta \u001b[36m0:00:00\u001b[0m\n",
            "\u001b[?25hCollecting ftfy (from -r requirements.txt (line 5))\n",
            "  Downloading ftfy-6.2.0-py3-none-any.whl.metadata (7.3 kB)\n",
            "Requirement already satisfied: Jinja2 in /usr/local/lib/python3.10/dist-packages (from -r requirements.txt (line 6)) (3.1.4)\n",
            "Requirement already satisfied: importlib-metadata in /usr/local/lib/python3.10/dist-packages (from diffusers==0.21.2->diffusers[torch]==0.21.2->-r requirements.txt (line 1)) (8.0.0)\n",
            "Requirement already satisfied: filelock in /usr/local/lib/python3.10/dist-packages (from diffusers==0.21.2->diffusers[torch]==0.21.2->-r requirements.txt (line 1)) (3.15.4)\n",
            "Requirement already satisfied: huggingface-hub>=0.13.2 in /usr/local/lib/python3.10/dist-packages (from diffusers==0.21.2->diffusers[torch]==0.21.2->-r requirements.txt (line 1)) (0.23.5)\n",
            "Requirement already satisfied: numpy in /usr/local/lib/python3.10/dist-packages (from diffusers==0.21.2->diffusers[torch]==0.21.2->-r requirements.txt (line 1)) (1.25.2)\n",
            "Requirement already satisfied: regex!=2019.12.17 in /usr/local/lib/python3.10/dist-packages (from diffusers==0.21.2->diffusers[torch]==0.21.2->-r requirements.txt (line 1)) (2024.5.15)\n",
            "Requirement already satisfied: requests in /usr/local/lib/python3.10/dist-packages (from diffusers==0.21.2->diffusers[torch]==0.21.2->-r requirements.txt (line 1)) (2.31.0)\n",
            "Requirement already satisfied: safetensors>=0.3.1 in /usr/local/lib/python3.10/dist-packages (from diffusers==0.21.2->diffusers[torch]==0.21.2->-r requirements.txt (line 1)) (0.4.3)\n",
            "Requirement already satisfied: Pillow in /usr/local/lib/python3.10/dist-packages (from diffusers==0.21.2->diffusers[torch]==0.21.2->-r requirements.txt (line 1)) (9.4.0)\n",
            "Requirement already satisfied: packaging>=20.0 in /usr/local/lib/python3.10/dist-packages (from accelerate==0.20.3->-r requirements.txt (line 2)) (24.1)\n",
            "Requirement already satisfied: psutil in /usr/local/lib/python3.10/dist-packages (from accelerate==0.20.3->-r requirements.txt (line 2)) (5.9.5)\n",
            "Requirement already satisfied: pyyaml in /usr/local/lib/python3.10/dist-packages (from accelerate==0.20.3->-r requirements.txt (line 2)) (6.0.1)\n",
            "Requirement already satisfied: torch>=1.6.0 in /usr/local/lib/python3.10/dist-packages (from accelerate==0.20.3->-r requirements.txt (line 2)) (2.3.1+cu121)\n",
            "Collecting tokenizers!=0.11.3,<0.14,>=0.11.1 (from transformers==4.25.1->-r requirements.txt (line 4))\n",
            "  Downloading tokenizers-0.13.3-cp310-cp310-manylinux_2_17_x86_64.manylinux2014_x86_64.whl.metadata (6.7 kB)\n",
            "Requirement already satisfied: tqdm>=4.27 in /usr/local/lib/python3.10/dist-packages (from transformers==4.25.1->-r requirements.txt (line 4)) (4.66.4)\n",
            "Requirement already satisfied: typing-extensions>=4.8.0 in /usr/local/lib/python3.10/dist-packages (from torch>=1.6.0->accelerate==0.20.3->-r requirements.txt (line 2)) (4.12.2)\n",
            "Requirement already satisfied: sympy in /usr/local/lib/python3.10/dist-packages (from torch>=1.6.0->accelerate==0.20.3->-r requirements.txt (line 2)) (1.13.1)\n",
            "Requirement already satisfied: networkx in /usr/local/lib/python3.10/dist-packages (from torch>=1.6.0->accelerate==0.20.3->-r requirements.txt (line 2)) (3.3)\n",
            "Requirement already satisfied: fsspec in /usr/local/lib/python3.10/dist-packages (from torch>=1.6.0->accelerate==0.20.3->-r requirements.txt (line 2)) (2023.6.0)\n",
            "Collecting nvidia-cuda-nvrtc-cu12==12.1.105 (from torch>=1.6.0->accelerate==0.20.3->-r requirements.txt (line 2))\n",
            "  Using cached nvidia_cuda_nvrtc_cu12-12.1.105-py3-none-manylinux1_x86_64.whl.metadata (1.5 kB)\n",
            "Collecting nvidia-cuda-runtime-cu12==12.1.105 (from torch>=1.6.0->accelerate==0.20.3->-r requirements.txt (line 2))\n",
            "  Using cached nvidia_cuda_runtime_cu12-12.1.105-py3-none-manylinux1_x86_64.whl.metadata (1.5 kB)\n",
            "Collecting nvidia-cuda-cupti-cu12==12.1.105 (from torch>=1.6.0->accelerate==0.20.3->-r requirements.txt (line 2))\n",
            "  Using cached nvidia_cuda_cupti_cu12-12.1.105-py3-none-manylinux1_x86_64.whl.metadata (1.6 kB)\n",
            "Collecting nvidia-cudnn-cu12==8.9.2.26 (from torch>=1.6.0->accelerate==0.20.3->-r requirements.txt (line 2))\n",
            "  Using cached nvidia_cudnn_cu12-8.9.2.26-py3-none-manylinux1_x86_64.whl.metadata (1.6 kB)\n",
            "Collecting nvidia-cublas-cu12==12.1.3.1 (from torch>=1.6.0->accelerate==0.20.3->-r requirements.txt (line 2))\n",
            "  Using cached nvidia_cublas_cu12-12.1.3.1-py3-none-manylinux1_x86_64.whl.metadata (1.5 kB)\n",
            "Collecting nvidia-cufft-cu12==11.0.2.54 (from torch>=1.6.0->accelerate==0.20.3->-r requirements.txt (line 2))\n",
            "  Using cached nvidia_cufft_cu12-11.0.2.54-py3-none-manylinux1_x86_64.whl.metadata (1.5 kB)\n",
            "Collecting nvidia-curand-cu12==10.3.2.106 (from torch>=1.6.0->accelerate==0.20.3->-r requirements.txt (line 2))\n",
            "  Using cached nvidia_curand_cu12-10.3.2.106-py3-none-manylinux1_x86_64.whl.metadata (1.5 kB)\n",
            "Collecting nvidia-cusolver-cu12==11.4.5.107 (from torch>=1.6.0->accelerate==0.20.3->-r requirements.txt (line 2))\n",
            "  Using cached nvidia_cusolver_cu12-11.4.5.107-py3-none-manylinux1_x86_64.whl.metadata (1.6 kB)\n",
            "Collecting nvidia-cusparse-cu12==12.1.0.106 (from torch>=1.6.0->accelerate==0.20.3->-r requirements.txt (line 2))\n",
            "  Using cached nvidia_cusparse_cu12-12.1.0.106-py3-none-manylinux1_x86_64.whl.metadata (1.6 kB)\n",
            "Collecting nvidia-nccl-cu12==2.20.5 (from torch>=1.6.0->accelerate==0.20.3->-r requirements.txt (line 2))\n",
            "  Using cached nvidia_nccl_cu12-2.20.5-py3-none-manylinux2014_x86_64.whl.metadata (1.8 kB)\n",
            "Collecting nvidia-nvtx-cu12==12.1.105 (from torch>=1.6.0->accelerate==0.20.3->-r requirements.txt (line 2))\n",
            "  Using cached nvidia_nvtx_cu12-12.1.105-py3-none-manylinux1_x86_64.whl.metadata (1.7 kB)\n",
            "Requirement already satisfied: triton==2.3.1 in /usr/local/lib/python3.10/dist-packages (from torch>=1.6.0->accelerate==0.20.3->-r requirements.txt (line 2)) (2.3.1)\n",
            "Collecting nvidia-nvjitlink-cu12 (from nvidia-cusolver-cu12==11.4.5.107->torch>=1.6.0->accelerate==0.20.3->-r requirements.txt (line 2))\n",
            "  Downloading nvidia_nvjitlink_cu12-12.5.82-py3-none-manylinux2014_x86_64.whl.metadata (1.5 kB)\n",
            "Requirement already satisfied: wcwidth<0.3.0,>=0.2.12 in /usr/local/lib/python3.10/dist-packages (from ftfy->-r requirements.txt (line 5)) (0.2.13)\n",
            "Requirement already satisfied: MarkupSafe>=2.0 in /usr/local/lib/python3.10/dist-packages (from Jinja2->-r requirements.txt (line 6)) (2.1.5)\n",
            "Requirement already satisfied: zipp>=0.5 in /usr/local/lib/python3.10/dist-packages (from importlib-metadata->diffusers==0.21.2->diffusers[torch]==0.21.2->-r requirements.txt (line 1)) (3.19.2)\n",
            "Requirement already satisfied: charset-normalizer<4,>=2 in /usr/local/lib/python3.10/dist-packages (from requests->diffusers==0.21.2->diffusers[torch]==0.21.2->-r requirements.txt (line 1)) (3.3.2)\n",
            "Requirement already satisfied: idna<4,>=2.5 in /usr/local/lib/python3.10/dist-packages (from requests->diffusers==0.21.2->diffusers[torch]==0.21.2->-r requirements.txt (line 1)) (3.7)\n",
            "Requirement already satisfied: urllib3<3,>=1.21.1 in /usr/local/lib/python3.10/dist-packages (from requests->diffusers==0.21.2->diffusers[torch]==0.21.2->-r requirements.txt (line 1)) (2.0.7)\n",
            "Requirement already satisfied: certifi>=2017.4.17 in /usr/local/lib/python3.10/dist-packages (from requests->diffusers==0.21.2->diffusers[torch]==0.21.2->-r requirements.txt (line 1)) (2024.7.4)\n",
            "Requirement already satisfied: mpmath<1.4,>=1.1.0 in /usr/local/lib/python3.10/dist-packages (from sympy->torch>=1.6.0->accelerate==0.20.3->-r requirements.txt (line 2)) (1.3.0)\n",
            "Downloading accelerate-0.20.3-py3-none-any.whl (227 kB)\n",
            "\u001b[2K   \u001b[90m━━━━━━━━━━━━━━━━━━━━━━━━━━━━━━━━━━━━━━━━\u001b[0m \u001b[32m227.6/227.6 kB\u001b[0m \u001b[31m20.0 MB/s\u001b[0m eta \u001b[36m0:00:00\u001b[0m\n",
            "\u001b[?25hDownloading transformers-4.25.1-py3-none-any.whl (5.8 MB)\n",
            "\u001b[2K   \u001b[90m━━━━━━━━━━━━━━━━━━━━━━━━━━━━━━━━━━━━━━━━\u001b[0m \u001b[32m5.8/5.8 MB\u001b[0m \u001b[31m89.9 MB/s\u001b[0m eta \u001b[36m0:00:00\u001b[0m\n",
            "\u001b[?25hUsing cached nvidia_cublas_cu12-12.1.3.1-py3-none-manylinux1_x86_64.whl (410.6 MB)\n",
            "Using cached nvidia_cuda_cupti_cu12-12.1.105-py3-none-manylinux1_x86_64.whl (14.1 MB)\n",
            "Using cached nvidia_cuda_nvrtc_cu12-12.1.105-py3-none-manylinux1_x86_64.whl (23.7 MB)\n",
            "Using cached nvidia_cuda_runtime_cu12-12.1.105-py3-none-manylinux1_x86_64.whl (823 kB)\n",
            "Using cached nvidia_cudnn_cu12-8.9.2.26-py3-none-manylinux1_x86_64.whl (731.7 MB)\n",
            "Using cached nvidia_cufft_cu12-11.0.2.54-py3-none-manylinux1_x86_64.whl (121.6 MB)\n",
            "Using cached nvidia_curand_cu12-10.3.2.106-py3-none-manylinux1_x86_64.whl (56.5 MB)\n",
            "Using cached nvidia_cusolver_cu12-11.4.5.107-py3-none-manylinux1_x86_64.whl (124.2 MB)\n",
            "Using cached nvidia_cusparse_cu12-12.1.0.106-py3-none-manylinux1_x86_64.whl (196.0 MB)\n",
            "Using cached nvidia_nccl_cu12-2.20.5-py3-none-manylinux2014_x86_64.whl (176.2 MB)\n",
            "Using cached nvidia_nvtx_cu12-12.1.105-py3-none-manylinux1_x86_64.whl (99 kB)\n",
            "Downloading ftfy-6.2.0-py3-none-any.whl (54 kB)\n",
            "\u001b[2K   \u001b[90m━━━━━━━━━━━━━━━━━━━━━━━━━━━━━━━━━━━━━━━━\u001b[0m \u001b[32m54.4/54.4 kB\u001b[0m \u001b[31m125.3 kB/s\u001b[0m eta \u001b[36m0:00:00\u001b[0m\n",
            "\u001b[?25hDownloading tokenizers-0.13.3-cp310-cp310-manylinux_2_17_x86_64.manylinux2014_x86_64.whl (7.8 MB)\n",
            "\u001b[2K   \u001b[90m━━━━━━━━━━━━━━━━━━━━━━━━━━━━━━━━━━━━━━━━\u001b[0m \u001b[32m7.8/7.8 MB\u001b[0m \u001b[31m69.1 MB/s\u001b[0m eta \u001b[36m0:00:00\u001b[0m\n",
            "\u001b[?25hDownloading nvidia_nvjitlink_cu12-12.5.82-py3-none-manylinux2014_x86_64.whl (21.3 MB)\n",
            "\u001b[2K   \u001b[90m━━━━━━━━━━━━━━━━━━━━━━━━━━━━━━━━━━━━━━━━\u001b[0m \u001b[32m21.3/21.3 MB\u001b[0m \u001b[31m61.0 MB/s\u001b[0m eta \u001b[36m0:00:00\u001b[0m\n",
            "\u001b[?25hBuilding wheels for collected packages: diffusers\n",
            "  Building wheel for diffusers (pyproject.toml) ... \u001b[?25l\u001b[?25hdone\n",
            "  Created wheel for diffusers: filename=diffusers-0.21.2-py3-none-any.whl size=1489252 sha256=fa9ccf4017cb58294d808e3334454f286669661ed74a4e55030f142f3bddfc31\n",
            "  Stored in directory: /root/.cache/pip/wheels/2e/09/32/11c9e42c397d3f3494226b28ba68c4ad4718a68a65dba14ea6\n",
            "Successfully built diffusers\n",
            "Installing collected packages: tokenizers, nvidia-nvtx-cu12, nvidia-nvjitlink-cu12, nvidia-nccl-cu12, nvidia-curand-cu12, nvidia-cufft-cu12, nvidia-cuda-runtime-cu12, nvidia-cuda-nvrtc-cu12, nvidia-cuda-cupti-cu12, nvidia-cublas-cu12, ftfy, nvidia-cusparse-cu12, nvidia-cudnn-cu12, transformers, nvidia-cusolver-cu12, diffusers, accelerate\n",
            "  Attempting uninstall: tokenizers\n",
            "    Found existing installation: tokenizers 0.19.1\n",
            "    Uninstalling tokenizers-0.19.1:\n",
            "      Successfully uninstalled tokenizers-0.19.1\n",
            "  Attempting uninstall: transformers\n",
            "    Found existing installation: transformers 4.42.4\n",
            "    Uninstalling transformers-4.42.4:\n",
            "      Successfully uninstalled transformers-4.42.4\n",
            "  Attempting uninstall: accelerate\n",
            "    Found existing installation: accelerate 0.32.1\n",
            "    Uninstalling accelerate-0.32.1:\n",
            "      Successfully uninstalled accelerate-0.32.1\n",
            "Successfully installed accelerate-0.20.3 diffusers-0.21.2 ftfy-6.2.0 nvidia-cublas-cu12-12.1.3.1 nvidia-cuda-cupti-cu12-12.1.105 nvidia-cuda-nvrtc-cu12-12.1.105 nvidia-cuda-runtime-cu12-12.1.105 nvidia-cudnn-cu12-8.9.2.26 nvidia-cufft-cu12-11.0.2.54 nvidia-curand-cu12-10.3.2.106 nvidia-cusolver-cu12-11.4.5.107 nvidia-cusparse-cu12-12.1.0.106 nvidia-nccl-cu12-2.20.5 nvidia-nvjitlink-cu12-12.5.82 nvidia-nvtx-cu12-12.1.105 tokenizers-0.13.3 transformers-4.25.1\n"
          ]
        }
      ]
    },
    {
      "cell_type": "code",
      "source": [],
      "metadata": {
        "id": "r-v__a2tYD2F"
      },
      "execution_count": 10,
      "outputs": []
    },
    {
      "cell_type": "code",
      "source": [
        "%cd /content/drive/MyDrive/CrossInitialization"
      ],
      "metadata": {
        "colab": {
          "base_uri": "https://localhost:8080/"
        },
        "id": "1NLRDz69Zvp6",
        "outputId": "2feecccf-94bf-4c17-b4f3-aae5e17c0c75"
      },
      "execution_count": 13,
      "outputs": [
        {
          "output_type": "stream",
          "name": "stdout",
          "text": [
            "/content/drive/MyDrive/CrossInitialization\n"
          ]
        }
      ]
    },
    {
      "cell_type": "code",
      "source": [
        "# !python train_cross_init.py \\\n",
        "#     --save_steps 100 \\\n",
        "#     --only_save_embeds \\\n",
        "#     --placeholder_token \"<28017>\" \\\n",
        "#     --train_batch_size 8 \\\n",
        "#     --scale_lr \\\n",
        "#     --n_persudo_tokens 2 \\\n",
        "#     --reg_weight \"1e-5\" \\\n",
        "#     --learning_rate 0.000625 \\\n",
        "#     --max_train_step 320 \\\n",
        "#     --logging_dir \"/content/drive/MyDrive/CrossInitialization/logs/tensorboard\" \\\n",
        "#     --train_data_dir \"/content/drive/MyDrive/CrossInitialization/examples/input_images/28017\" \\\n",
        "#     --celeb_path \"/content/drive/MyDrive/CrossInitialization/examples/wiki_names_v2.txt\" \\\n",
        "#     --pretrained_model_name_or_path \"stabilityai/stable-diffusion-2-1-base\" \\\n",
        "#     --output_dir \"/content/drive/MyDrive/CrossInitialization/logs/28017/learned_embeddings\" \\\n",
        ""
      ],
      "metadata": {
        "id": "NO0fxWNqa-VT"
      },
      "execution_count": 10,
      "outputs": []
    },
    {
      "cell_type": "code",
      "source": [
        "!python test_cross_init.py \\\n",
        "    --pretrained_model_name_or_path \"stabilityai/stable-diffusion-2-1-base\" \\\n",
        "    --num_inference_steps 50 \\\n",
        "    --learned_embedding_path \"/content/drive/MyDrive/CrossInitialization/examples/learned_embeddings/28017/learned_embeds.bin\" \\\n",
        "    --prompt \"a photo of a {} person\" \\\n",
        "    --save_dir \"/content/drive/MyDrive/CrossInitialization/examples/input_images/28017\" \\\n",
        "    --num_images_per_prompt=8 \\\n",
        "    --n_iter=1"
      ],
      "metadata": {
        "colab": {
          "base_uri": "https://localhost:8080/"
        },
        "id": "PmhEB8DOcOiA",
        "outputId": "9cec2d0a-37a2-4b21-ba0e-ad3a0ea1c122"
      },
      "execution_count": 9,
      "outputs": [
        {
          "output_type": "stream",
          "name": "stdout",
          "text": [
            "2024-07-26 09:56:57.515764: E external/local_xla/xla/stream_executor/cuda/cuda_dnn.cc:9261] Unable to register cuDNN factory: Attempting to register factory for plugin cuDNN when one has already been registered\n",
            "2024-07-26 09:56:57.515819: E external/local_xla/xla/stream_executor/cuda/cuda_fft.cc:607] Unable to register cuFFT factory: Attempting to register factory for plugin cuFFT when one has already been registered\n",
            "2024-07-26 09:56:57.517177: E external/local_xla/xla/stream_executor/cuda/cuda_blas.cc:1515] Unable to register cuBLAS factory: Attempting to register factory for plugin cuBLAS when one has already been registered\n",
            "2024-07-26 09:56:58.682024: W tensorflow/compiler/tf2tensorrt/utils/py_utils.cc:38] TF-TRT Warning: Could not find TensorRT\n",
            "/usr/local/lib/python3.10/dist-packages/huggingface_hub/file_download.py:1132: FutureWarning: `resume_download` is deprecated and will be removed in version 1.0.0. Downloads always resume when possible. If you want to force a new download, use `force_download=True`.\n",
            "  warnings.warn(\n",
            "model_index.json: 100% 543/543 [00:00<00:00, 3.62MB/s]\n",
            "Fetching 7 files:   0% 0/7 [00:00<?, ?it/s]\n",
            "diffusion_pytorch_model.safetensors:   0% 0.00/3.46G [00:00<?, ?B/s]\u001b[A\n",
            "\n",
            "diffusion_pytorch_model.safetensors:   0% 0.00/335M [00:00<?, ?B/s]\u001b[A\u001b[A\n",
            "\n",
            "\n",
            "(…)ature_extractor/preprocessor_config.json: 100% 342/342 [00:00<00:00, 1.42MB/s]\n",
            "Fetching 7 files:  14% 1/7 [00:00<00:03,  1.51it/s]\n",
            "diffusion_pytorch_model.safetensors:   1% 21.0M/3.46G [00:00<00:19, 174MB/s]\u001b[A\n",
            "\n",
            "\n",
            "vae/config.json: 100% 553/553 [00:00<00:00, 2.89MB/s]\n",
            "\n",
            "\n",
            "\n",
            "unet/config.json: 100% 911/911 [00:00<00:00, 4.91MB/s]\n",
            "\n",
            "\n",
            "diffusion_pytorch_model.safetensors:   6% 21.0M/335M [00:00<00:01, 176MB/s]\u001b[A\u001b[A\n",
            "\n",
            "\n",
            "scheduler/scheduler_config.json: 100% 346/346 [00:00<00:00, 2.02MB/s]\n",
            "Fetching 7 files:  43% 3/7 [00:00<00:00,  4.79it/s]\n",
            "diffusion_pytorch_model.safetensors:   2% 52.4M/3.46G [00:00<00:14, 228MB/s]\u001b[A\n",
            "\n",
            "diffusion_pytorch_model.safetensors:  16% 52.4M/335M [00:00<00:01, 242MB/s]\u001b[A\u001b[A\n",
            "diffusion_pytorch_model.safetensors:   2% 83.9M/3.46G [00:00<00:15, 216MB/s]\u001b[A\n",
            "\n",
            "diffusion_pytorch_model.safetensors:  25% 83.9M/335M [00:00<00:01, 201MB/s]\u001b[A\u001b[A\n",
            "diffusion_pytorch_model.safetensors:   3% 115M/3.46G [00:00<00:18, 182MB/s] \u001b[A\n",
            "\n",
            "diffusion_pytorch_model.safetensors:  34% 115M/335M [00:00<00:01, 168MB/s] \u001b[A\u001b[A\n",
            "diffusion_pytorch_model.safetensors:   4% 136M/3.46G [00:00<00:18, 181MB/s]\u001b[A\n",
            "\n",
            "diffusion_pytorch_model.safetensors:  41% 136M/335M [00:00<00:01, 176MB/s]\u001b[A\u001b[A\n",
            "diffusion_pytorch_model.safetensors:   5% 157M/3.46G [00:00<00:18, 182MB/s]\u001b[A\n",
            "\n",
            "diffusion_pytorch_model.safetensors:  47% 157M/335M [00:00<00:01, 173MB/s]\u001b[A\u001b[A\n",
            "diffusion_pytorch_model.safetensors:   5% 178M/3.46G [00:00<00:17, 186MB/s]\u001b[A\n",
            "\n",
            "diffusion_pytorch_model.safetensors:  56% 189M/335M [00:00<00:00, 202MB/s]\u001b[A\u001b[A\n",
            "diffusion_pytorch_model.safetensors:   6% 199M/3.46G [00:01<00:17, 188MB/s]\u001b[A\n",
            "diffusion_pytorch_model.safetensors:   6% 220M/3.46G [00:01<00:19, 169MB/s]\u001b[A\n",
            "\n",
            "diffusion_pytorch_model.safetensors:  66% 220M/335M [00:01<00:00, 181MB/s]\u001b[A\u001b[A\n",
            "diffusion_pytorch_model.safetensors:   7% 241M/3.46G [00:01<00:21, 148MB/s]\u001b[A\n",
            "\n",
            "diffusion_pytorch_model.safetensors:  72% 241M/335M [00:01<00:00, 158MB/s]\u001b[A\u001b[A\n",
            "diffusion_pytorch_model.safetensors:   8% 262M/3.46G [00:01<00:23, 138MB/s]\u001b[A\n",
            "\n",
            "diffusion_pytorch_model.safetensors:  78% 262M/335M [00:01<00:00, 143MB/s]\u001b[A\u001b[A\n",
            "\n",
            "diffusion_pytorch_model.safetensors:  85% 283M/335M [00:01<00:00, 145MB/s]\u001b[A\u001b[A\n",
            "diffusion_pytorch_model.safetensors:   8% 283M/3.46G [00:01<00:24, 132MB/s]\u001b[A\n",
            "diffusion_pytorch_model.safetensors:   9% 304M/3.46G [00:01<00:22, 144MB/s]\u001b[A\n",
            "\n",
            "diffusion_pytorch_model.safetensors:  91% 304M/335M [00:01<00:00, 144MB/s]\u001b[A\u001b[A\n",
            "diffusion_pytorch_model.safetensors:   9% 325M/3.46G [00:01<00:20, 152MB/s]\u001b[A\n",
            "\n",
            "diffusion_pytorch_model.safetensors: 100% 335M/335M [00:02<00:00, 163MB/s]\n",
            "\n",
            "diffusion_pytorch_model.safetensors:  10% 346M/3.46G [00:02<00:19, 156MB/s]\u001b[A\n",
            "diffusion_pytorch_model.safetensors:  11% 377M/3.46G [00:02<00:16, 185MB/s]\u001b[A\n",
            "diffusion_pytorch_model.safetensors:  12% 409M/3.46G [00:02<00:14, 207MB/s]\u001b[A\n",
            "diffusion_pytorch_model.safetensors:  13% 440M/3.46G [00:02<00:13, 229MB/s]\u001b[A\n",
            "diffusion_pytorch_model.safetensors:  14% 472M/3.46G [00:02<00:13, 223MB/s]\u001b[A\n",
            "diffusion_pytorch_model.safetensors:  15% 503M/3.46G [00:02<00:13, 225MB/s]\u001b[A\n",
            "diffusion_pytorch_model.safetensors:  16% 545M/3.46G [00:02<00:12, 234MB/s]\u001b[A\n",
            "diffusion_pytorch_model.safetensors:  17% 577M/3.46G [00:03<00:11, 249MB/s]\u001b[A\n",
            "diffusion_pytorch_model.safetensors:  18% 608M/3.46G [00:03<00:12, 233MB/s]\u001b[A\n",
            "diffusion_pytorch_model.safetensors:  18% 640M/3.46G [00:03<00:12, 228MB/s]\u001b[A\n",
            "diffusion_pytorch_model.safetensors:  20% 682M/3.46G [00:03<00:10, 255MB/s]\u001b[A\n",
            "diffusion_pytorch_model.safetensors:  21% 713M/3.46G [00:03<00:10, 264MB/s]\u001b[A\n",
            "diffusion_pytorch_model.safetensors:  21% 744M/3.46G [00:03<00:11, 232MB/s]\u001b[A\n",
            "diffusion_pytorch_model.safetensors:  23% 786M/3.46G [00:03<00:10, 255MB/s]\u001b[A\n",
            "diffusion_pytorch_model.safetensors:  24% 818M/3.46G [00:03<00:10, 261MB/s]\u001b[A\n",
            "diffusion_pytorch_model.safetensors:  25% 849M/3.46G [00:04<00:10, 259MB/s]\u001b[A\n",
            "diffusion_pytorch_model.safetensors:  25% 881M/3.46G [00:04<00:09, 268MB/s]\u001b[A\n",
            "diffusion_pytorch_model.safetensors:  26% 912M/3.46G [00:04<00:09, 272MB/s]\u001b[A\n",
            "diffusion_pytorch_model.safetensors:  27% 944M/3.46G [00:04<00:10, 247MB/s]\u001b[A\n",
            "diffusion_pytorch_model.safetensors:  28% 975M/3.46G [00:04<00:10, 241MB/s]\u001b[A\n",
            "diffusion_pytorch_model.safetensors:  29% 1.01G/3.46G [00:04<00:09, 257MB/s]\u001b[A\n",
            "diffusion_pytorch_model.safetensors:  30% 1.04G/3.46G [00:04<00:09, 251MB/s]\u001b[A\n",
            "diffusion_pytorch_model.safetensors:  31% 1.07G/3.46G [00:04<00:09, 248MB/s]\u001b[A\n",
            "diffusion_pytorch_model.safetensors:  32% 1.10G/3.46G [00:05<00:09, 259MB/s]\u001b[A\n",
            "diffusion_pytorch_model.safetensors:  33% 1.13G/3.46G [00:05<00:08, 262MB/s]\u001b[A\n",
            "diffusion_pytorch_model.safetensors:  34% 1.16G/3.46G [00:07<00:52, 43.4MB/s]\u001b[A\n",
            "diffusion_pytorch_model.safetensors:  35% 1.21G/3.46G [00:07<00:35, 64.2MB/s]\u001b[A\n",
            "diffusion_pytorch_model.safetensors:  36% 1.26G/3.46G [00:07<00:22, 97.0MB/s]\u001b[A\n",
            "diffusion_pytorch_model.safetensors:  37% 1.29G/3.46G [00:07<00:18, 115MB/s] \u001b[A\n",
            "diffusion_pytorch_model.safetensors:  38% 1.32G/3.46G [00:07<00:15, 137MB/s]\u001b[A\n",
            "diffusion_pytorch_model.safetensors:  39% 1.35G/3.46G [00:07<00:13, 162MB/s]\u001b[A\n",
            "diffusion_pytorch_model.safetensors:  40% 1.38G/3.46G [00:08<00:11, 179MB/s]\u001b[A\n",
            "diffusion_pytorch_model.safetensors:  41% 1.42G/3.46G [00:08<00:10, 198MB/s]\u001b[A\n",
            "diffusion_pytorch_model.safetensors:  42% 1.46G/3.46G [00:08<00:08, 237MB/s]\u001b[A\n",
            "diffusion_pytorch_model.safetensors:  43% 1.49G/3.46G [00:08<00:07, 249MB/s]\u001b[A\n",
            "diffusion_pytorch_model.safetensors:  44% 1.53G/3.46G [00:08<00:06, 289MB/s]\u001b[A\n",
            "diffusion_pytorch_model.safetensors:  45% 1.57G/3.46G [00:08<00:06, 273MB/s]\u001b[A\n",
            "diffusion_pytorch_model.safetensors:  47% 1.61G/3.46G [00:08<00:06, 297MB/s]\u001b[A\n",
            "diffusion_pytorch_model.safetensors:  48% 1.66G/3.46G [00:08<00:05, 313MB/s]\u001b[A\n",
            "diffusion_pytorch_model.safetensors:  49% 1.70G/3.46G [00:09<00:06, 287MB/s]\u001b[A\n",
            "diffusion_pytorch_model.safetensors:  50% 1.73G/3.46G [00:09<00:05, 293MB/s]\u001b[A\n",
            "diffusion_pytorch_model.safetensors:  51% 1.76G/3.46G [00:09<00:05, 284MB/s]\u001b[A\n",
            "diffusion_pytorch_model.safetensors:  52% 1.79G/3.46G [00:09<00:06, 255MB/s]\u001b[A\n",
            "diffusion_pytorch_model.safetensors:  53% 1.82G/3.46G [00:09<00:06, 255MB/s]\u001b[A\n",
            "diffusion_pytorch_model.safetensors:  54% 1.86G/3.46G [00:09<00:06, 258MB/s]\u001b[A\n",
            "diffusion_pytorch_model.safetensors:  54% 1.89G/3.46G [00:09<00:06, 233MB/s]\u001b[A\n",
            "diffusion_pytorch_model.safetensors:  55% 1.92G/3.46G [00:09<00:06, 232MB/s]\u001b[A\n",
            "diffusion_pytorch_model.safetensors:  56% 1.95G/3.46G [00:10<00:06, 239MB/s]\u001b[A\n",
            "diffusion_pytorch_model.safetensors:  57% 1.98G/3.46G [00:10<00:06, 247MB/s]\u001b[A\n",
            "diffusion_pytorch_model.safetensors:  58% 2.01G/3.46G [00:10<00:06, 225MB/s]\u001b[A\n",
            "diffusion_pytorch_model.safetensors:  59% 2.04G/3.46G [00:10<00:06, 233MB/s]\u001b[A\n",
            "diffusion_pytorch_model.safetensors:  60% 2.08G/3.46G [00:10<00:06, 228MB/s]\u001b[A\n",
            "diffusion_pytorch_model.safetensors:  61% 2.11G/3.46G [00:10<00:06, 225MB/s]\u001b[A\n",
            "diffusion_pytorch_model.safetensors:  62% 2.14G/3.46G [00:10<00:05, 231MB/s]\u001b[A\n",
            "diffusion_pytorch_model.safetensors:  63% 2.17G/3.46G [00:11<00:05, 244MB/s]\u001b[A\n",
            "diffusion_pytorch_model.safetensors:  64% 2.21G/3.46G [00:11<00:04, 272MB/s]\u001b[A\n",
            "diffusion_pytorch_model.safetensors:  65% 2.24G/3.46G [00:11<00:06, 199MB/s]\u001b[A\n",
            "diffusion_pytorch_model.safetensors:  66% 2.28G/3.46G [00:11<00:07, 162MB/s]\u001b[A\n",
            "diffusion_pytorch_model.safetensors:  67% 2.31G/3.46G [00:11<00:06, 187MB/s]\u001b[A\n",
            "diffusion_pytorch_model.safetensors:  68% 2.35G/3.46G [00:11<00:05, 211MB/s]\u001b[A\n",
            "diffusion_pytorch_model.safetensors:  69% 2.38G/3.46G [00:12<00:05, 213MB/s]\u001b[A\n",
            "diffusion_pytorch_model.safetensors:  70% 2.41G/3.46G [00:12<00:04, 223MB/s]\u001b[A\n",
            "diffusion_pytorch_model.safetensors:  71% 2.44G/3.46G [00:12<00:04, 235MB/s]\u001b[A\n",
            "diffusion_pytorch_model.safetensors:  71% 2.47G/3.46G [00:12<00:04, 247MB/s]\u001b[A\n",
            "diffusion_pytorch_model.safetensors:  72% 2.51G/3.46G [00:12<00:03, 254MB/s]\u001b[A\n",
            "diffusion_pytorch_model.safetensors:  73% 2.54G/3.46G [00:12<00:03, 264MB/s]\u001b[A\n",
            "diffusion_pytorch_model.safetensors:  74% 2.57G/3.46G [00:12<00:03, 258MB/s]\u001b[A\n",
            "diffusion_pytorch_model.safetensors:  75% 2.60G/3.46G [00:12<00:03, 225MB/s]\u001b[A\n",
            "diffusion_pytorch_model.safetensors:  76% 2.63G/3.46G [00:13<00:03, 227MB/s]\u001b[A\n",
            "diffusion_pytorch_model.safetensors:  77% 2.66G/3.46G [00:13<00:03, 228MB/s]\u001b[A\n",
            "diffusion_pytorch_model.safetensors:  78% 2.69G/3.46G [00:13<00:03, 237MB/s]\u001b[A\n",
            "diffusion_pytorch_model.safetensors:  79% 2.73G/3.46G [00:13<00:02, 250MB/s]\u001b[A\n",
            "diffusion_pytorch_model.safetensors:  80% 2.76G/3.46G [00:13<00:02, 245MB/s]\u001b[A\n",
            "diffusion_pytorch_model.safetensors:  81% 2.79G/3.46G [00:13<00:02, 248MB/s]\u001b[A\n",
            "diffusion_pytorch_model.safetensors:  81% 2.82G/3.46G [00:13<00:02, 261MB/s]\u001b[A\n",
            "diffusion_pytorch_model.safetensors:  82% 2.85G/3.46G [00:13<00:02, 255MB/s]\u001b[A\n",
            "diffusion_pytorch_model.safetensors:  83% 2.88G/3.46G [00:14<00:02, 244MB/s]\u001b[A\n",
            "diffusion_pytorch_model.safetensors:  84% 2.92G/3.46G [00:14<00:02, 254MB/s]\u001b[A\n",
            "diffusion_pytorch_model.safetensors:  85% 2.95G/3.46G [00:14<00:01, 262MB/s]\u001b[A\n",
            "diffusion_pytorch_model.safetensors:  86% 2.98G/3.46G [00:14<00:01, 263MB/s]\u001b[A\n",
            "diffusion_pytorch_model.safetensors:  87% 3.01G/3.46G [00:14<00:01, 275MB/s]\u001b[A\n",
            "diffusion_pytorch_model.safetensors:  88% 3.05G/3.46G [00:14<00:01, 297MB/s]\u001b[A\n",
            "diffusion_pytorch_model.safetensors:  89% 3.08G/3.46G [00:14<00:01, 286MB/s]\u001b[A\n",
            "diffusion_pytorch_model.safetensors:  90% 3.12G/3.46G [00:14<00:01, 305MB/s]\u001b[A\n",
            "diffusion_pytorch_model.safetensors:  91% 3.16G/3.46G [00:15<00:01, 297MB/s]\u001b[A\n",
            "diffusion_pytorch_model.safetensors:  92% 3.20G/3.46G [00:15<00:00, 309MB/s]\u001b[A\n",
            "diffusion_pytorch_model.safetensors:  94% 3.24G/3.46G [00:15<00:00, 321MB/s]\u001b[A\n",
            "diffusion_pytorch_model.safetensors:  95% 3.28G/3.46G [00:15<00:00, 314MB/s]\u001b[A\n",
            "diffusion_pytorch_model.safetensors:  96% 3.32G/3.46G [00:15<00:00, 335MB/s]\u001b[A\n",
            "diffusion_pytorch_model.safetensors:  97% 3.37G/3.46G [00:15<00:00, 317MB/s]\u001b[A\n",
            "diffusion_pytorch_model.safetensors:  98% 3.41G/3.46G [00:15<00:00, 303MB/s]\u001b[A\n",
            "diffusion_pytorch_model.safetensors: 100% 3.46G/3.46G [00:16<00:00, 213MB/s]\n",
            "Fetching 7 files: 100% 7/7 [00:16<00:00,  2.41s/it]\n",
            "Loading pipeline components...: 100% 6/6 [00:16<00:00,  2.69s/it]\n",
            "100% 50/50 [00:40<00:00,  1.24it/s]\n"
          ]
        }
      ]
    },
    {
      "cell_type": "code",
      "source": [],
      "metadata": {
        "id": "sD6zgY7PcOlc"
      },
      "execution_count": null,
      "outputs": []
    },
    {
      "cell_type": "code",
      "source": [],
      "metadata": {
        "id": "aChCbS7WcOoQ"
      },
      "execution_count": null,
      "outputs": []
    },
    {
      "cell_type": "code",
      "source": [],
      "metadata": {
        "id": "W2e7EkIscOq0"
      },
      "execution_count": null,
      "outputs": []
    }
  ]
}